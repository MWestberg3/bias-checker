{
  "cells": [
    {
      "cell_type": "markdown",
      "metadata": {
        "id": "view-in-github",
        "colab_type": "text"
      },
      "source": [
        "<a href=\"https://colab.research.google.com/github/MWestberg3/bias-checker/blob/mwestberg%2Fbuild-data-loaders-and-rnn/bias_checker.ipynb\" target=\"_parent\"><img src=\"https://colab.research.google.com/assets/colab-badge.svg\" alt=\"Open In Colab\"/></a>"
      ]
    },
    {
      "cell_type": "markdown",
      "metadata": {
        "id": "ttiQehWh3eNK"
      },
      "source": [
        "### Imports"
      ]
    },
    {
      "cell_type": "code",
      "execution_count": null,
      "metadata": {
        "id": "AmEJwEY03eNL"
      },
      "outputs": [],
      "source": [
        "import pandas as pd\n",
        "import kagglehub as kh\n",
        "import os\n",
        "\n",
        "path = kh.dataset_download(\"subhankarpanda56/news-bias\")\n",
        "\n",
        "print(\"Path to dataset: \", path)"
      ]
    },
    {
      "cell_type": "code",
      "execution_count": null,
      "metadata": {
        "id": "KXLN1i883eNM"
      },
      "outputs": [],
      "source": [
        "# Find the CSV file within the downloaded directory:\n",
        "for filename in os.listdir(path):\n",
        "  if filename.endswith(\".csv\"):\n",
        "    csv_file_path = os.path.join(path, filename)\n",
        "    break # Stop after finding the first CSV file\n",
        "\n",
        "\n",
        "bias_raw_df = pd.read_csv(csv_file_path).iloc[:300]\n",
        "print(bias_raw_df.head())"
      ]
    },
    {
      "cell_type": "code",
      "source": [
        "len(bias_raw_df)"
      ],
      "metadata": {
        "id": "vDm9zJ6b71nS"
      },
      "execution_count": null,
      "outputs": []
    },
    {
      "cell_type": "code",
      "source": [
        "bias_raw_df.groupby('bias_text').count().plot(kind='pie', y='ID', autopct='%1.0f%%')"
      ],
      "metadata": {
        "id": "ExGujX3a8YFh"
      },
      "execution_count": null,
      "outputs": []
    },
    {
      "cell_type": "code",
      "source": [
        "from sklearn.model_selection import train_test_split\n",
        "\n",
        "X_train, X_test, y_train, y_test = train_test_split(bias_raw_df['content_original'], bias_raw_df['bias_text'], test_size=0.2, random_state=42)"
      ],
      "metadata": {
        "id": "RpLwjHQp8yhm"
      },
      "execution_count": 10,
      "outputs": []
    },
    {
      "cell_type": "code",
      "source": [
        "X_train[0]"
      ],
      "metadata": {
        "id": "ctzt6q3O9ZyZ"
      },
      "execution_count": null,
      "outputs": []
    },
    {
      "cell_type": "markdown",
      "source": [
        "# NLTK Pre-processing"
      ],
      "metadata": {
        "id": "nkkfMA8Q9x-E"
      }
    },
    {
      "cell_type": "code",
      "source": [
        "import nltk\n",
        "nltk.download('punkt')\n",
        "nltk.download('punkt_tab')\n",
        "from nltk.tokenize import word_tokenize\n",
        "\n",
        "# Tokenization\n",
        "X_token_train = [word_tokenize(line)[:100] for line in X_train]\n",
        "X_token_test = [word_tokenize(line)[:100] for line in X_test]"
      ],
      "metadata": {
        "id": "GQDa4CPq93d2"
      },
      "execution_count": null,
      "outputs": []
    },
    {
      "cell_type": "code",
      "source": [
        "print(X_token_train[0])"
      ],
      "metadata": {
        "id": "OXfhXZA1HvJc"
      },
      "execution_count": null,
      "outputs": []
    },
    {
      "cell_type": "code",
      "source": [
        "nltk.download('wordnet')\n",
        "from nltk.stem import WordNetLemmatizer\n",
        "\n",
        "# Lemmatization\n",
        "lemmatizer = WordNetLemmatizer()\n",
        "lemma_X_train = [[lemmatizer.lemmatize(word) for word in line] for line in X_token_train]\n",
        "lemma_X_test = [[lemmatizer.lemmatize(word) for word in line] for line in X_token_test]\n",
        "print(lemma_X_train[0])"
      ],
      "metadata": {
        "id": "KIUsleS0H7Ja"
      },
      "execution_count": null,
      "outputs": []
    },
    {
      "cell_type": "code",
      "source": [
        "nltk.download('stopwords')\n",
        "from nltk.corpus import stopwords\n",
        "\n",
        "# Remove stopwords\n",
        "clear_X_train = [[word for word in line if word not in stopwords.words('english')] for line in lemma_X_train]\n",
        "clear_X_test = [[word for word in line if word not in stopwords.words('english')] for line in lemma_X_test]\n",
        "print(clear_X_train[0])"
      ],
      "metadata": {
        "id": "nnpGK0FiXo6V"
      },
      "execution_count": null,
      "outputs": []
    },
    {
      "cell_type": "code",
      "source": [
        "from sklearn.feature_extraction.text import TfidfVectorizer\n",
        "\n",
        "# Initiate a tfidf vectorizer object\n",
        "vectorizer = TfidfVectorizer(preprocessor=' '.join)\n",
        "# Fitting the training dataset and transform it\n",
        "X_train_tfidf = vectorizer.fit_transform(clear_X_train)\n",
        "# Transform the test dataset\n",
        "X_test_tfidf = vectorizer.transform(clear_X_test)\n",
        "\n",
        "print(X_train_tfidf.shape)"
      ],
      "metadata": {
        "id": "qgTFjLTQkgS8"
      },
      "execution_count": null,
      "outputs": []
    },
    {
      "cell_type": "code",
      "source": [
        "print(X_train_tfidf[0])"
      ],
      "metadata": {
        "id": "4r_-RSqGk4Ng"
      },
      "execution_count": null,
      "outputs": []
    },
    {
      "cell_type": "code",
      "source": [
        "import gensim\n",
        "\n",
        "D = gensim.corpora.Dictionary(clear_X_train)\n",
        "print(D)"
      ],
      "metadata": {
        "id": "2pZ-bO5vR1Um"
      },
      "execution_count": null,
      "outputs": []
    },
    {
      "cell_type": "code",
      "source": [
        "train_indices = [[D.token2id[t] for t in line] for line in clear_X_train]\n",
        "test_indices = [[D.token2id[t] if t in D else len(D) for t in line] for line in clear_X_test]\n",
        "\n",
        "import torch\n",
        "import torch.nn as nn\n",
        "from torch.nn.utils.rnn import pad_sequence\n",
        "\n",
        "train_tensor = pad_sequence([torch.tensor(line) for line in train_indices],\n",
        "                            batch_first=True,\n",
        "                            padding_value=len(D)+2)\n",
        "test_tensor = pad_sequence([torch.tensor(line) for line in test_indices],\n",
        "                           batch_first=True,\n",
        "                           padding_value=len(D)+2)\n",
        "\n",
        "X_train_seq = nn.functional.one_hot(train_tensor)\n",
        "X_test_seq = nn.functional.one_hot(test_tensor)\n",
        "\n",
        "print(X_train_seq.shape)\n",
        "print(X_test_seq.shape)"
      ],
      "metadata": {
        "id": "fNCVgmM3R_-9"
      },
      "execution_count": null,
      "outputs": []
    },
    {
      "cell_type": "markdown",
      "source": [
        "# Torch RNN Models"
      ],
      "metadata": {
        "id": "4fbxmoNjP9JD"
      }
    },
    {
      "cell_type": "code",
      "source": [
        "# Simple tensor operations\n",
        "import torch\n",
        "\n",
        "# Putting data into a tensor\n",
        "X_train_tensor = torch.tensor(X_train_tfidf.toarray())\n",
        "X_test_tensor = torch.tensor(X_test_tfidf.toarray())"
      ],
      "metadata": {
        "id": "EZv9Pu4UQCxi"
      },
      "execution_count": 20,
      "outputs": []
    },
    {
      "cell_type": "code",
      "source": [
        "import torch.nn as nn\n",
        "\n",
        "# Using super to use the net like a layer (inherit nn.Module)\n",
        "class RNNNet(nn.Module):\n",
        "  def __init__(self, input_size, hidden_size=128): # Default hidden_layer size is 128 nodes\n",
        "    super(RNNNet, self).__init__()\n",
        "    self.hidden_size = hidden_size\n",
        "    # Define the RNN layer as LSTM\n",
        "    self.rnn_layer = nn.LSTM(input_size,\n",
        "                             hidden_size,\n",
        "                             batch_first=True)\n",
        "    # Define the output layer\n",
        "    self.output_layer = nn.Linear(hidden_size, 1)\n",
        "    self.sigmoid_layer = nn.Sigmoid()\n",
        "\n",
        "  def forward(self, x):\n",
        "    # Initiate hidden layer h_0\n",
        "    hidden_init = torch.zeros(2, x.shape[0], self.hidden_size)\n",
        "\n",
        "    # Run the RNN layer\n",
        "    output, _ = self.rnn_layer(x)\n",
        "\n",
        "    # Given input, we need to pass the input through the layers\n",
        "    return self.sigmoid_layer(self.output_layer(output[:,-1,:]))"
      ],
      "metadata": {
        "id": "jINIurnKQX4q"
      },
      "execution_count": 24,
      "outputs": []
    },
    {
      "cell_type": "code",
      "source": [
        "lr = 0.01 # Learning rate\n",
        "epochs = 70 # Training epochs\n",
        "\n",
        "input_size = X_train_tensor.shape[-1] # Extract the last dimension\n",
        "\n",
        "model = RNNNet(input_size).to(\"cuda:0\")\n",
        "\n",
        "loss_func = nn.CrossEntropyLoss()\n",
        "optimizer = torch.optim.Adam(model.parameters(), lr=lr)\n"
      ],
      "metadata": {
        "id": "x7Uf_6sURjQ1"
      },
      "execution_count": 26,
      "outputs": []
    }
  ],
  "metadata": {
    "kernelspec": {
      "display_name": "Python 3",
      "name": "python3"
    },
    "language_info": {
      "codemirror_mode": {
        "name": "ipython",
        "version": 3
      },
      "file_extension": ".py",
      "mimetype": "text/x-python",
      "name": "python",
      "nbconvert_exporter": "python",
      "pygments_lexer": "ipython3",
      "version": "3.11.5"
    },
    "colab": {
      "provenance": [],
      "machine_shape": "hm",
      "gpuType": "T4",
      "include_colab_link": true
    },
    "accelerator": "GPU"
  },
  "nbformat": 4,
  "nbformat_minor": 0
}