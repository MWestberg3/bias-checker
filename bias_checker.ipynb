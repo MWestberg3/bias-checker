{
  "cells": [
    {
      "cell_type": "markdown",
      "metadata": {
        "id": "view-in-github",
        "colab_type": "text"
      },
      "source": [
        "<a href=\"https://colab.research.google.com/github/MWestberg3/bias-checker/blob/main/bias_checker.ipynb\" target=\"_parent\"><img src=\"https://colab.research.google.com/assets/colab-badge.svg\" alt=\"Open In Colab\"/></a>"
      ]
    },
    {
      "cell_type": "markdown",
      "metadata": {
        "id": "ttiQehWh3eNK"
      },
      "source": [
        "### Imports"
      ]
    },
    {
      "cell_type": "code",
      "execution_count": null,
      "metadata": {
        "id": "AmEJwEY03eNL"
      },
      "outputs": [],
      "source": [
        "import pandas as pd\n",
        "import kagglehub as kh\n",
        "import os\n",
        "\n",
        "path = kh.dataset_download(\"subhankarpanda56/news-bias\")\n",
        "\n",
        "print(\"Path to dataset: \", path)"
      ]
    },
    {
      "cell_type": "code",
      "execution_count": null,
      "metadata": {
        "id": "KXLN1i883eNM"
      },
      "outputs": [],
      "source": [
        "# Find the CSV file within the downloaded directory:\n",
        "for filename in os.listdir(path):\n",
        "  if filename.endswith(\".csv\"):\n",
        "    csv_file_path = os.path.join(path, filename)\n",
        "    break # Stop after finding the first CSV file\n",
        "\n",
        "\n",
        "df = pd.read_csv(csv_file_path)\n",
        "df.head()\n",
        "\n",
        "print(\"hello world!\")\n",
        "print(\"one more test here!\")"
      ]
    }
  ],
  "metadata": {
    "kernelspec": {
      "display_name": "base",
      "language": "python",
      "name": "python3"
    },
    "language_info": {
      "codemirror_mode": {
        "name": "ipython",
        "version": 3
      },
      "file_extension": ".py",
      "mimetype": "text/x-python",
      "name": "python",
      "nbconvert_exporter": "python",
      "pygments_lexer": "ipython3",
      "version": "3.11.5"
    },
    "colab": {
      "provenance": [],
      "include_colab_link": true
    }
  },
  "nbformat": 4,
  "nbformat_minor": 0
}