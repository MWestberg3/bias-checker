{
  "cells": [
    {
      "cell_type": "markdown",
      "metadata": {
        "id": "view-in-github",
        "colab_type": "text"
      },
      "source": [
        "<a href=\"https://colab.research.google.com/github/MWestberg3/bias-checker/blob/mwestberg%2Fdata_preprocessing/bias_checker.ipynb\" target=\"_parent\"><img src=\"https://colab.research.google.com/assets/colab-badge.svg\" alt=\"Open In Colab\"/></a>"
      ]
    },
    {
      "cell_type": "markdown",
      "metadata": {
        "id": "ttiQehWh3eNK"
      },
      "source": [
        "### Imports"
      ]
    },
    {
      "cell_type": "code",
      "execution_count": 3,
      "metadata": {
        "id": "AmEJwEY03eNL",
        "colab": {
          "base_uri": "https://localhost:8080/"
        },
        "outputId": "5acfe783-1b7e-41af-a372-9686e4c5140a"
      },
      "outputs": [
        {
          "output_type": "stream",
          "name": "stdout",
          "text": [
            "Downloading from https://www.kaggle.com/api/v1/datasets/download/subhankarpanda56/news-bias?dataset_version_number=1...\n"
          ]
        },
        {
          "output_type": "stream",
          "name": "stderr",
          "text": [
            "100%|██████████| 110M/110M [00:06<00:00, 19.0MB/s]"
          ]
        },
        {
          "output_type": "stream",
          "name": "stdout",
          "text": [
            "Extracting files...\n"
          ]
        },
        {
          "output_type": "stream",
          "name": "stderr",
          "text": [
            "\n"
          ]
        },
        {
          "output_type": "stream",
          "name": "stdout",
          "text": [
            "Path to dataset:  /root/.cache/kagglehub/datasets/subhankarpanda56/news-bias/versions/1\n"
          ]
        }
      ],
      "source": [
        "import pandas as pd\n",
        "import kagglehub as kh\n",
        "import os\n",
        "\n",
        "path = kh.dataset_download(\"subhankarpanda56/news-bias\")\n",
        "\n",
        "print(\"Path to dataset: \", path)"
      ]
    },
    {
      "cell_type": "code",
      "execution_count": 4,
      "metadata": {
        "id": "KXLN1i883eNM",
        "colab": {
          "base_uri": "https://localhost:8080/",
          "height": 666
        },
        "outputId": "b843b7d2-6608-4256-92cd-95da368e6280"
      },
      "outputs": [
        {
          "output_type": "execute_result",
          "data": {
            "text/plain": [
              "           topic                 source  bias  \\\n",
              "0      terrorism  New York Times - News     0   \n",
              "1  supreme_court                    Vox     0   \n",
              "2      education             Ezra Klein     0   \n",
              "3       us_house         Breitbart News     2   \n",
              "4    white_house    Guest Writer - Left     0   \n",
              "\n",
              "                                                 url  \\\n",
              "0  http://www.nytimes.com/2016/09/20/nyregion/ahm...   \n",
              "1  https://www.vox.com/policy-and-politics/2018/9...   \n",
              "2  http://www.npr.org/blogs/thetwo-way/2014/05/06...   \n",
              "3  http://www.breitbart.com/big-government/2017/0...   \n",
              "4  https://www.cnn.com/2019/07/11/politics/donald...   \n",
              "\n",
              "                                               title        date  \\\n",
              "0  Bomb Suspect Changed After Trip Abroad, Friend...  2016-09-20   \n",
              "1  Why Susan Collins claims she’s being bribed ov...  2018-09-12   \n",
              "2  Poll: Prestigious Colleges Won't Make You Happ...  2014-05-06   \n",
              "3  Paul Ryan Reportedly Says No Chance for Border...  2017-09-12   \n",
              "4  OPINION: Trump seeking change of legal fortune...  2019-07-11   \n",
              "\n",
              "                                             authors  \\\n",
              "0                                   N. R. Kleinfield   \n",
              "1  Emily Stewart, Terry Nguyen, Rebecca Jennings,...   \n",
              "2                                      Anya Kamenetz   \n",
              "3                                          Ian Mason   \n",
              "4                         Analysis Stephen Collinson   \n",
              "\n",
              "                                             content  \\\n",
              "0  Besides his most recent trip to Quetta , Mr. R...   \n",
              "1  Is Maine Republican Sen. Susan Collins being b...   \n",
              "2  Poll : Prestigious Colleges Wo n't Make You Ha...   \n",
              "3  House Speaker Paul Ryan , at a private dinner ...   \n",
              "4  ( CNN ) President Donald Trump has reason to h...   \n",
              "\n",
              "                                    content_original         source_url  \\\n",
              "0  Besides his most recent trip to Quetta, Mr. Ra...    www.nytimes.com   \n",
              "1  Is Maine Republican Sen. Susan Collins being b...        www.vox.com   \n",
              "2  Poll: Prestigious Colleges Won't Make You Happ...        www.npr.org   \n",
              "3  House Speaker Paul Ryan, at a private dinner e...  www.breitbart.com   \n",
              "4  (CNN) President Donald Trump has reason to hop...        www.cnn.com   \n",
              "\n",
              "  bias_text                ID  \n",
              "0      left  004Gt3gcsotuiYmz  \n",
              "1      left  00eP4XD3VdMmHITE  \n",
              "2      left  00FTGIZEd6B8zQ4U  \n",
              "3     right  00HGGqBRf1kzPRlg  \n",
              "4      left  00IzI5ynahBVtC9l  "
            ],
            "text/html": [
              "\n",
              "  <div id=\"df-0e4ab7a1-584b-4090-8e76-cc2c73bcb0c1\" class=\"colab-df-container\">\n",
              "    <div>\n",
              "<style scoped>\n",
              "    .dataframe tbody tr th:only-of-type {\n",
              "        vertical-align: middle;\n",
              "    }\n",
              "\n",
              "    .dataframe tbody tr th {\n",
              "        vertical-align: top;\n",
              "    }\n",
              "\n",
              "    .dataframe thead th {\n",
              "        text-align: right;\n",
              "    }\n",
              "</style>\n",
              "<table border=\"1\" class=\"dataframe\">\n",
              "  <thead>\n",
              "    <tr style=\"text-align: right;\">\n",
              "      <th></th>\n",
              "      <th>topic</th>\n",
              "      <th>source</th>\n",
              "      <th>bias</th>\n",
              "      <th>url</th>\n",
              "      <th>title</th>\n",
              "      <th>date</th>\n",
              "      <th>authors</th>\n",
              "      <th>content</th>\n",
              "      <th>content_original</th>\n",
              "      <th>source_url</th>\n",
              "      <th>bias_text</th>\n",
              "      <th>ID</th>\n",
              "    </tr>\n",
              "  </thead>\n",
              "  <tbody>\n",
              "    <tr>\n",
              "      <th>0</th>\n",
              "      <td>terrorism</td>\n",
              "      <td>New York Times - News</td>\n",
              "      <td>0</td>\n",
              "      <td>http://www.nytimes.com/2016/09/20/nyregion/ahm...</td>\n",
              "      <td>Bomb Suspect Changed After Trip Abroad, Friend...</td>\n",
              "      <td>2016-09-20</td>\n",
              "      <td>N. R. Kleinfield</td>\n",
              "      <td>Besides his most recent trip to Quetta , Mr. R...</td>\n",
              "      <td>Besides his most recent trip to Quetta, Mr. Ra...</td>\n",
              "      <td>www.nytimes.com</td>\n",
              "      <td>left</td>\n",
              "      <td>004Gt3gcsotuiYmz</td>\n",
              "    </tr>\n",
              "    <tr>\n",
              "      <th>1</th>\n",
              "      <td>supreme_court</td>\n",
              "      <td>Vox</td>\n",
              "      <td>0</td>\n",
              "      <td>https://www.vox.com/policy-and-politics/2018/9...</td>\n",
              "      <td>Why Susan Collins claims she’s being bribed ov...</td>\n",
              "      <td>2018-09-12</td>\n",
              "      <td>Emily Stewart, Terry Nguyen, Rebecca Jennings,...</td>\n",
              "      <td>Is Maine Republican Sen. Susan Collins being b...</td>\n",
              "      <td>Is Maine Republican Sen. Susan Collins being b...</td>\n",
              "      <td>www.vox.com</td>\n",
              "      <td>left</td>\n",
              "      <td>00eP4XD3VdMmHITE</td>\n",
              "    </tr>\n",
              "    <tr>\n",
              "      <th>2</th>\n",
              "      <td>education</td>\n",
              "      <td>Ezra Klein</td>\n",
              "      <td>0</td>\n",
              "      <td>http://www.npr.org/blogs/thetwo-way/2014/05/06...</td>\n",
              "      <td>Poll: Prestigious Colleges Won't Make You Happ...</td>\n",
              "      <td>2014-05-06</td>\n",
              "      <td>Anya Kamenetz</td>\n",
              "      <td>Poll : Prestigious Colleges Wo n't Make You Ha...</td>\n",
              "      <td>Poll: Prestigious Colleges Won't Make You Happ...</td>\n",
              "      <td>www.npr.org</td>\n",
              "      <td>left</td>\n",
              "      <td>00FTGIZEd6B8zQ4U</td>\n",
              "    </tr>\n",
              "    <tr>\n",
              "      <th>3</th>\n",
              "      <td>us_house</td>\n",
              "      <td>Breitbart News</td>\n",
              "      <td>2</td>\n",
              "      <td>http://www.breitbart.com/big-government/2017/0...</td>\n",
              "      <td>Paul Ryan Reportedly Says No Chance for Border...</td>\n",
              "      <td>2017-09-12</td>\n",
              "      <td>Ian Mason</td>\n",
              "      <td>House Speaker Paul Ryan , at a private dinner ...</td>\n",
              "      <td>House Speaker Paul Ryan, at a private dinner e...</td>\n",
              "      <td>www.breitbart.com</td>\n",
              "      <td>right</td>\n",
              "      <td>00HGGqBRf1kzPRlg</td>\n",
              "    </tr>\n",
              "    <tr>\n",
              "      <th>4</th>\n",
              "      <td>white_house</td>\n",
              "      <td>Guest Writer - Left</td>\n",
              "      <td>0</td>\n",
              "      <td>https://www.cnn.com/2019/07/11/politics/donald...</td>\n",
              "      <td>OPINION: Trump seeking change of legal fortune...</td>\n",
              "      <td>2019-07-11</td>\n",
              "      <td>Analysis Stephen Collinson</td>\n",
              "      <td>( CNN ) President Donald Trump has reason to h...</td>\n",
              "      <td>(CNN) President Donald Trump has reason to hop...</td>\n",
              "      <td>www.cnn.com</td>\n",
              "      <td>left</td>\n",
              "      <td>00IzI5ynahBVtC9l</td>\n",
              "    </tr>\n",
              "  </tbody>\n",
              "</table>\n",
              "</div>\n",
              "    <div class=\"colab-df-buttons\">\n",
              "\n",
              "  <div class=\"colab-df-container\">\n",
              "    <button class=\"colab-df-convert\" onclick=\"convertToInteractive('df-0e4ab7a1-584b-4090-8e76-cc2c73bcb0c1')\"\n",
              "            title=\"Convert this dataframe to an interactive table.\"\n",
              "            style=\"display:none;\">\n",
              "\n",
              "  <svg xmlns=\"http://www.w3.org/2000/svg\" height=\"24px\" viewBox=\"0 -960 960 960\">\n",
              "    <path d=\"M120-120v-720h720v720H120Zm60-500h600v-160H180v160Zm220 220h160v-160H400v160Zm0 220h160v-160H400v160ZM180-400h160v-160H180v160Zm440 0h160v-160H620v160ZM180-180h160v-160H180v160Zm440 0h160v-160H620v160Z\"/>\n",
              "  </svg>\n",
              "    </button>\n",
              "\n",
              "  <style>\n",
              "    .colab-df-container {\n",
              "      display:flex;\n",
              "      gap: 12px;\n",
              "    }\n",
              "\n",
              "    .colab-df-convert {\n",
              "      background-color: #E8F0FE;\n",
              "      border: none;\n",
              "      border-radius: 50%;\n",
              "      cursor: pointer;\n",
              "      display: none;\n",
              "      fill: #1967D2;\n",
              "      height: 32px;\n",
              "      padding: 0 0 0 0;\n",
              "      width: 32px;\n",
              "    }\n",
              "\n",
              "    .colab-df-convert:hover {\n",
              "      background-color: #E2EBFA;\n",
              "      box-shadow: 0px 1px 2px rgba(60, 64, 67, 0.3), 0px 1px 3px 1px rgba(60, 64, 67, 0.15);\n",
              "      fill: #174EA6;\n",
              "    }\n",
              "\n",
              "    .colab-df-buttons div {\n",
              "      margin-bottom: 4px;\n",
              "    }\n",
              "\n",
              "    [theme=dark] .colab-df-convert {\n",
              "      background-color: #3B4455;\n",
              "      fill: #D2E3FC;\n",
              "    }\n",
              "\n",
              "    [theme=dark] .colab-df-convert:hover {\n",
              "      background-color: #434B5C;\n",
              "      box-shadow: 0px 1px 3px 1px rgba(0, 0, 0, 0.15);\n",
              "      filter: drop-shadow(0px 1px 2px rgba(0, 0, 0, 0.3));\n",
              "      fill: #FFFFFF;\n",
              "    }\n",
              "  </style>\n",
              "\n",
              "    <script>\n",
              "      const buttonEl =\n",
              "        document.querySelector('#df-0e4ab7a1-584b-4090-8e76-cc2c73bcb0c1 button.colab-df-convert');\n",
              "      buttonEl.style.display =\n",
              "        google.colab.kernel.accessAllowed ? 'block' : 'none';\n",
              "\n",
              "      async function convertToInteractive(key) {\n",
              "        const element = document.querySelector('#df-0e4ab7a1-584b-4090-8e76-cc2c73bcb0c1');\n",
              "        const dataTable =\n",
              "          await google.colab.kernel.invokeFunction('convertToInteractive',\n",
              "                                                    [key], {});\n",
              "        if (!dataTable) return;\n",
              "\n",
              "        const docLinkHtml = 'Like what you see? Visit the ' +\n",
              "          '<a target=\"_blank\" href=https://colab.research.google.com/notebooks/data_table.ipynb>data table notebook</a>'\n",
              "          + ' to learn more about interactive tables.';\n",
              "        element.innerHTML = '';\n",
              "        dataTable['output_type'] = 'display_data';\n",
              "        await google.colab.output.renderOutput(dataTable, element);\n",
              "        const docLink = document.createElement('div');\n",
              "        docLink.innerHTML = docLinkHtml;\n",
              "        element.appendChild(docLink);\n",
              "      }\n",
              "    </script>\n",
              "  </div>\n",
              "\n",
              "\n",
              "<div id=\"df-ae0884cd-b9f5-4d5e-8875-fd3e1f83c5cb\">\n",
              "  <button class=\"colab-df-quickchart\" onclick=\"quickchart('df-ae0884cd-b9f5-4d5e-8875-fd3e1f83c5cb')\"\n",
              "            title=\"Suggest charts\"\n",
              "            style=\"display:none;\">\n",
              "\n",
              "<svg xmlns=\"http://www.w3.org/2000/svg\" height=\"24px\"viewBox=\"0 0 24 24\"\n",
              "     width=\"24px\">\n",
              "    <g>\n",
              "        <path d=\"M19 3H5c-1.1 0-2 .9-2 2v14c0 1.1.9 2 2 2h14c1.1 0 2-.9 2-2V5c0-1.1-.9-2-2-2zM9 17H7v-7h2v7zm4 0h-2V7h2v10zm4 0h-2v-4h2v4z\"/>\n",
              "    </g>\n",
              "</svg>\n",
              "  </button>\n",
              "\n",
              "<style>\n",
              "  .colab-df-quickchart {\n",
              "      --bg-color: #E8F0FE;\n",
              "      --fill-color: #1967D2;\n",
              "      --hover-bg-color: #E2EBFA;\n",
              "      --hover-fill-color: #174EA6;\n",
              "      --disabled-fill-color: #AAA;\n",
              "      --disabled-bg-color: #DDD;\n",
              "  }\n",
              "\n",
              "  [theme=dark] .colab-df-quickchart {\n",
              "      --bg-color: #3B4455;\n",
              "      --fill-color: #D2E3FC;\n",
              "      --hover-bg-color: #434B5C;\n",
              "      --hover-fill-color: #FFFFFF;\n",
              "      --disabled-bg-color: #3B4455;\n",
              "      --disabled-fill-color: #666;\n",
              "  }\n",
              "\n",
              "  .colab-df-quickchart {\n",
              "    background-color: var(--bg-color);\n",
              "    border: none;\n",
              "    border-radius: 50%;\n",
              "    cursor: pointer;\n",
              "    display: none;\n",
              "    fill: var(--fill-color);\n",
              "    height: 32px;\n",
              "    padding: 0;\n",
              "    width: 32px;\n",
              "  }\n",
              "\n",
              "  .colab-df-quickchart:hover {\n",
              "    background-color: var(--hover-bg-color);\n",
              "    box-shadow: 0 1px 2px rgba(60, 64, 67, 0.3), 0 1px 3px 1px rgba(60, 64, 67, 0.15);\n",
              "    fill: var(--button-hover-fill-color);\n",
              "  }\n",
              "\n",
              "  .colab-df-quickchart-complete:disabled,\n",
              "  .colab-df-quickchart-complete:disabled:hover {\n",
              "    background-color: var(--disabled-bg-color);\n",
              "    fill: var(--disabled-fill-color);\n",
              "    box-shadow: none;\n",
              "  }\n",
              "\n",
              "  .colab-df-spinner {\n",
              "    border: 2px solid var(--fill-color);\n",
              "    border-color: transparent;\n",
              "    border-bottom-color: var(--fill-color);\n",
              "    animation:\n",
              "      spin 1s steps(1) infinite;\n",
              "  }\n",
              "\n",
              "  @keyframes spin {\n",
              "    0% {\n",
              "      border-color: transparent;\n",
              "      border-bottom-color: var(--fill-color);\n",
              "      border-left-color: var(--fill-color);\n",
              "    }\n",
              "    20% {\n",
              "      border-color: transparent;\n",
              "      border-left-color: var(--fill-color);\n",
              "      border-top-color: var(--fill-color);\n",
              "    }\n",
              "    30% {\n",
              "      border-color: transparent;\n",
              "      border-left-color: var(--fill-color);\n",
              "      border-top-color: var(--fill-color);\n",
              "      border-right-color: var(--fill-color);\n",
              "    }\n",
              "    40% {\n",
              "      border-color: transparent;\n",
              "      border-right-color: var(--fill-color);\n",
              "      border-top-color: var(--fill-color);\n",
              "    }\n",
              "    60% {\n",
              "      border-color: transparent;\n",
              "      border-right-color: var(--fill-color);\n",
              "    }\n",
              "    80% {\n",
              "      border-color: transparent;\n",
              "      border-right-color: var(--fill-color);\n",
              "      border-bottom-color: var(--fill-color);\n",
              "    }\n",
              "    90% {\n",
              "      border-color: transparent;\n",
              "      border-bottom-color: var(--fill-color);\n",
              "    }\n",
              "  }\n",
              "</style>\n",
              "\n",
              "  <script>\n",
              "    async function quickchart(key) {\n",
              "      const quickchartButtonEl =\n",
              "        document.querySelector('#' + key + ' button');\n",
              "      quickchartButtonEl.disabled = true;  // To prevent multiple clicks.\n",
              "      quickchartButtonEl.classList.add('colab-df-spinner');\n",
              "      try {\n",
              "        const charts = await google.colab.kernel.invokeFunction(\n",
              "            'suggestCharts', [key], {});\n",
              "      } catch (error) {\n",
              "        console.error('Error during call to suggestCharts:', error);\n",
              "      }\n",
              "      quickchartButtonEl.classList.remove('colab-df-spinner');\n",
              "      quickchartButtonEl.classList.add('colab-df-quickchart-complete');\n",
              "    }\n",
              "    (() => {\n",
              "      let quickchartButtonEl =\n",
              "        document.querySelector('#df-ae0884cd-b9f5-4d5e-8875-fd3e1f83c5cb button');\n",
              "      quickchartButtonEl.style.display =\n",
              "        google.colab.kernel.accessAllowed ? 'block' : 'none';\n",
              "    })();\n",
              "  </script>\n",
              "</div>\n",
              "\n",
              "    </div>\n",
              "  </div>\n"
            ],
            "application/vnd.google.colaboratory.intrinsic+json": {
              "type": "dataframe",
              "variable_name": "bias_raw_df",
              "summary": "{\n  \"name\": \"bias_raw_df\",\n  \"rows\": 37554,\n  \"fields\": [\n    {\n      \"column\": \"topic\",\n      \"properties\": {\n        \"dtype\": \"category\",\n        \"num_unique_values\": 108,\n        \"samples\": [\n          \"role_of_government\",\n          \"economic_policy\",\n          \"white_house\"\n        ],\n        \"semantic_type\": \"\",\n        \"description\": \"\"\n      }\n    },\n    {\n      \"column\": \"source\",\n      \"properties\": {\n        \"dtype\": \"category\",\n        \"num_unique_values\": 491,\n        \"samples\": [\n          \"KALW.org\",\n          \"Star Tribune\",\n          \"Joe Scarborough\"\n        ],\n        \"semantic_type\": \"\",\n        \"description\": \"\"\n      }\n    },\n    {\n      \"column\": \"bias\",\n      \"properties\": {\n        \"dtype\": \"number\",\n        \"std\": 0,\n        \"min\": 0,\n        \"max\": 2,\n        \"num_unique_values\": 3,\n        \"samples\": [\n          0,\n          2,\n          1\n        ],\n        \"semantic_type\": \"\",\n        \"description\": \"\"\n      }\n    },\n    {\n      \"column\": \"url\",\n      \"properties\": {\n        \"dtype\": \"string\",\n        \"num_unique_values\": 37541,\n        \"samples\": [\n          \"http://townhall.com/columnists/starparker/2012/10/08/why_the_obama_bubble_still_hasnt_burst\",\n          \"http://www.salon.com/2016/05/27/trumps_a_walking_time_bomb_dont_be_fooled_by_his_victory_he_can_implode_his_own_campaign_at_any_moment/\",\n          \"https://abcnews.go.com/Politics/trumps-doj-clears-president-violating-campaign-finance-law/story?id=65849857\"\n        ],\n        \"semantic_type\": \"\",\n        \"description\": \"\"\n      }\n    },\n    {\n      \"column\": \"title\",\n      \"properties\": {\n        \"dtype\": \"string\",\n        \"num_unique_values\": 37554,\n        \"samples\": [\n          \"Now More than Ever, Free-Speech Dogma Is Worth Defending\",\n          \"What the latest Mueller indictment tells us about his strategy\",\n          \"Five arrested in connection with fatal shooting of rapper Pop Smoke, police say\"\n        ],\n        \"semantic_type\": \"\",\n        \"description\": \"\"\n      }\n    },\n    {\n      \"column\": \"date\",\n      \"properties\": {\n        \"dtype\": \"category\",\n        \"num_unique_values\": 2915,\n        \"samples\": [\n          \"2018-10-13\",\n          \"2019-07-26\",\n          \"2014-12-20\"\n        ],\n        \"semantic_type\": \"\",\n        \"description\": \"\"\n      }\n    },\n    {\n      \"column\": \"authors\",\n      \"properties\": {\n        \"dtype\": \"category\",\n        \"num_unique_values\": 12354,\n        \"samples\": [\n          \"Dan Sabbagh, Michael Safi\",\n          \"Alexandra Glorioso, Sean Mcelwee\",\n          \"Ben White, Marc Caputo, Natasha Korecki\"\n        ],\n        \"semantic_type\": \"\",\n        \"description\": \"\"\n      }\n    },\n    {\n      \"column\": \"content\",\n      \"properties\": {\n        \"dtype\": \"string\",\n        \"num_unique_values\": 37554,\n        \"samples\": [\n          \"Former Charlottesville , Va. , mayor Michael Signer argues that we must restrict speech to maintain the rule of law . He couldn \\u2019 t be more wrong .\\n\\u2018 Two things form the bedrock of any open society , \\u201d Salman Rushdie once noted , \\u201c freedom of expression and rule of law . If you don \\u2019 t have those things , you don \\u2019 t have a free country . \\u201d\\nWell , in a recent Wall Street Journal op-ed , \\u201c How Free Speech Dogma Failed Us in Charlottesville , \\u201d Michael Signer , the former mayor of Charlottesville , makes the argument that restricting speech is necessary for the rule of law .\\nThe first problem with Signer \\u2019 s case is the premise itself . Sorry , but we have no uniquely pressing need to \\u201c keep pace \\u201d with violent or threatening \\u201c political disruptions. \\u201d Americans live in era of relatively little political violence . A person doesn \\u2019 t even have to go back to the brutality of the1860s and 1870s to understand this ; they can just look back at the 1960s and 1970s , or maybe even the 1990s .\\nWhen a few hundred Nazis , in a nation of 350 million , get together and march down Main Street , that isn \\u2019 t a particularly compelling reason to rethink our rights . In 1939 , well after Hitler \\u2019 s tyrannical intentions were known , 20,000 Nazi sympathizers filled up Madison Square Garden . There will always be extremists in America . Which is one reason why we must always do our best to safeguard natural rights .\\nWith white nationalists chanting \\u201c Jews will not replace us \\u201d in the streets of Charlottesville and far-left demonstrators vandalizing college campuses in response to speakers they don \\u2019 t like , we need First Amendment rules that return to common sense , not high-minded ideas that seem sound on paper but fail to keep us safe and free in practice .\\nFar-left demonstrators \\u2019 \\u201c vandalizing college campuses \\u201d in response to speakers they dislike are attempting to suppress speech , not engaging in speech . They are criminals whose actions make a great argument for free-speech absolutism and the rule of law . Does Signer believe that we should restrict speech to pacify the would-be criminal censor or placate the would-be bigot and murderer ? That would set a destructive precedent for reasons beyond protecting speech . The Nazi who rammed his car into a crowd at the \\u201c Unite the Right \\u201d rally in 2017 , murdering a woman and injuring dozens of others , was sentenced to over 400 years in jail , not given a say over how we mete out speech rights .\\nThe bottom line is that once we start creating \\u201c rules \\u201d for speech \\u2014 once we abandon the principled protection of content-neutral expression \\u2014 our words will be subjected to the vagaries of politics , the biases of voters , and the interpretations of bureaucrats . If we let subjective rules govern words , we will have undermined the entire point of constitutional governance and the Bill of Rights .\\nIt shouldn \\u2019 t need to be said that innocuous and uncontroversial speech doesn \\u2019 t require defending . Once we normalize the idea that our opinions must find a consensus to be legal , we have corroded constitutional protections in an irreparable way .\\nSigner himself offers an excellent example of the inherent problems with empowering politicians to be arbiters of political expression . After the Charlottesville riot , Signer went on cable news and blamed Donald Trump and Republicans for emboldening \\u201c organized racists who caused the racially charged violence in his city over the weekend . \\u201d\\nWell , using Signer \\u2019 s standards , Trump and his supporters could be banned from political gatherings in Charlottesville . So could anyone protesting the dismantling of Confederate statues . What if one day in the future a majority in his community decides to start demolishing statues of slave-owning town founder Thomas Jefferson ? Will he ban the resulting protests ?\\nProgressive lawmakers have often tried passing laws to make it difficult for protesters to picket abortion clinics . How long before pro-life speech is labeled a dangerous impediment to \\u201c health care \\u201d and public safety ?\\nLiberal groups have long smeared organizations they dislike as \\u201c hate groups. \\u201d The Southern Poverty Law Center , for example , throws in civil-rights groups such as the Alliance Defending Freedom with white-supremacist agitators such as the Ku Klux Klan . How long before religious freedom , already declared hateful by so many on the left , is off limits ?\\nHow long before Jewish communities are allowed to ban gatherings led by Ilhan Omar , Linda Sarsour , or Louis Farrakhan ? What if enough people are convinced that the press is an \\u201c enemy of the people ? \\u201d\\nSigner , naturally , brings up Justice Robert Jackson \\u2019 s famous dissent in 1949 \\u2019 s Terminiello v. City of Chicago , in which Jackson cautioned that the Bill of Rights shouldn \\u2019 t be turned \\u201c into a suicide pact. \\u201d The \\u201c suicide pact \\u201d dissent remains a favorite of censors , gun-controllers , and others frustrated by the unpliable nature of our fundamental liberties . Yet after the majority in Terminiello found a Chicago \\u201c breach of peace \\u201d ordinance banning speech that \\u201c stirs the public to anger , invites dispute , brings about a condition of unrest , or creates a disturbance \\u201d to be unconstitutional , Chicago did not turn to fascism . The speech at issue did not cause riots or public unrest . None of us would even be familiar with the name of the disgraced anti-Semitic priest Arthur Terminiello if it weren \\u2019 t for Jackson \\u2019 s destructive attack on natural rights .\\nEven if we conceded for the sake of argument that free speech failed Charlottesville on a single day in August of 2017 , it would be absurd to refer to the neutral view of speech enshrined by the Bill of Rights as making that document a \\u201c suicide pact. \\u201d There are millions of other places and thousands of other days where content-neutral protection of speech hasn \\u2019 t failed America . On the first anniversary of the \\u201c Unite the Right \\u201d rally in Charlottesville , only two dozen bigots showed up for a second rally in Washington , D.C. \\u2014 they had been denied a permit by Charlottesville authorities \\u2014 and they were met by thousands of counter-protesters .\\nSo Signer \\u2019 s claim that municipalities are handcuffed by free speech is risible . It \\u2019 s also irrelevant . Signer uses words such as \\u201c safe \\u201d and \\u201c safety \\u201d a dozen times in his column . The right to protest peacefully is not contingent on the actions of strangers who break the law . Just because anti-capitalists are known to occasionally throw rocks through the windows of coffee-shop chains doesn \\u2019 t mean we should be free to ban every anti-capitalist activist in the country from exercising his First Amendment rights .\\nUntil recently , we agreed on these ideals . The dogma of free speech was perhaps the only one most Americans still claimed to venerate . But that may not be the case much longer . Our support for the First Amendment seems to be waning , and if that continues , we will come to regret it .\",\n          \"On Tuesday morning , special counsel Robert Mueller \\u2019 s office released yet another indictment \\u2014 but this one was kind of a puzzler . The indictment targets Alex van der Zwaan , a Dutch attorney based in London , for making false statements to the FBI .\\nVan der Zwaan \\u2019 s connection to the Russia case runs through Rick Gates , former Trump campaign chair Paul Manafort \\u2019 s deputy whom Mueller indicted in October , along with Manafort , on charges of money laundering and illegal lobbying .\\nThe connection is convoluted , dealing with an internal Ukrainian political dispute from more than a decade ago \\u2014 but it nonetheless says some interesting things about the state of the Russia investigation right now .\\nHere \\u2019 s what the indictment says , and why it tells us something important about Mueller \\u2019 s strategy .\\nIn the early 2010s , van der Zwaan was working in the London office of Skadden Arps , one of the world \\u2019 s largest and most powerful corporate law firms . His work seemed to focus on the former Soviet Union .\\nDuring this same time period , Manafort and Gates were working for Ukrainian President Viktor Yanukovych \\u2014 a Kremlin-backed leader with dubious democratic credentials .\\nYanukovych was in the midst of a power struggle with another prominent Ukrainian politician , which he decided to solve by jailing her in the fall of 2011 . Manafort and Gates \\u2019 s job was to run cover for this clearly undemocratic prosecution . So they retained a team from Skadden Arps , which included van der Zwaan , to put together a \\u201c report \\u201d that conveniently concluded that there was no political motive for putting her in jail .\\nThis was a big deal in Ukraine but a relatively obscure issue for most of the rest of the world . Manafort and Gates continued their work for Yanukovych afterward , and van der Zwaan moved on to other things \\u2014 most notably marrying Eva Khan , the daughter of Ukrainian-Russian billionaire German Khan , in the summer of 2017 . ( One of Khan \\u2019 s companies is , somewhat curiously , mentioned in the infamous Steele dossier . )\\nBut the Mueller investigation would soon deliver van der Zwaan an unhappy honeymoon . In the process of looking into Manafort and Gates \\u2019 s ties to the Kremlin , Mueller \\u2019 s team started investigating the Skadden Arps report . According to the indictment , FBI agents personally questioned van der Zwaan in November 2017 about his communications with Gates and an unidentified Person A .\\nVan der Zwaan told them that his last communication with Gates was in August 2016 and was an \\u201c innocuous text message , \\u201d and that he hadn \\u2019 t spoken to Person A since 2014 . This , according to the indictment , is a lie \\u2014 van der Zwaan was actually secretly communicating with Gates and Person A about the Skadden report .\\n\\u201c In or about September 2016 , he spoke with both Gates and Person A regarding the Report , and surreptitiously recorded the call , \\u201d the indictment says .\\nThe indictment also alleges that van der Zwaan deleted an email between himself and Person A sent around the same time as those conversations \\u2014 and told the FBI that he \\u201c did not know \\u201d where the email was .\\nVan der Zwaan is scheduled to appear in court on Tuesday at 2:30 pm EST to answer the indictment . He is expected to plead guilty , according to reports .\\nThe key piece of information in all of this is the timing : Manafort resigned as Trump \\u2019 s campaign manager on August 19 , 2016 \\u2014 weeks before the alleged conversations between Gates , Person A , and van der Zwaan . The resignation was the result of widespread reporting about Manafort \\u2019 s shady ties to Yanukovych , particularly an allegedly off-the-books payment .\\nIf Gates and van der Zwaan were talking about the Skadden report in September 2016 , and van der Zwaan felt the need to lie to the FBI about it , it suggests that there may have been something criminal about the report \\u2019 s production \\u2014 or at least , something whose release would be politically damaging .\\nGet van der Zwaan to get to Gates to get to Manafort\\nInterestingly , both CBS News and the Los Angeles Times reported on Monday that Gates had struck a plea deal with Mueller and would testify against Manafort , his former boss . It \\u2019 s not a stretch to think that evidence provided by van der Zwaan \\u2014 like his \\u201c surreptitious \\u201d recording of his call with Gates and Person A \\u2014 helped Mueller build a case strong enough that Gates had no choice but to flip .\\nGates , as Manafort \\u2019 s longtime assistant , might well have the goods on his former boss , who is one of the most pivotal players in the whole Trump-Russia scandal . It \\u2019 s conceivable that van der Zwaan might end up being the first domino in a chain of events that leads to a major breakthrough \\u2014 a Manafort conviction or plea deal .\\nRight now , that \\u2019 s speculation : We don \\u2019 t know how the Manafort case is actually going to play out . But that is almost certainly Mueller \\u2019 s strategy \\u2014 get van der Zwaan to get to Gates to get to Manafort , and from there , get vital information about Trump \\u2019 s real ties to Russia .\\nWhat this shows , more than anything else , is how methodical and wide-ranging the Mueller investigation is \\u2014 that it \\u2019 s willing to look all the way back to an obscure report from the winter of 2012 in order to get to the truth about the Trump-Russia scandal . Mueller is starting at the lowest level , with seemingly unrelated people like van der Zwaan , to get to the big fish .\",\n          \"( CNN ) Six days after Pop Smoke 's posthumous album dropped , Los Angeles police announced Thursday that five people , two of them juveniles , had been arrested in connection with the rapper 's February slaying .\\n`` LAPD Detectives have arrested three adult males and two juvenile males related to the Feb 19th murder , '' it said in a tweet . `` We will provide further details as they become available . ''\\nThe arrests come less than a week after Friday 's release of the album , `` Shoot for the Stars Aim for the Moon . ''\\nUniversal Music Group had planned to release the album last month , but instead it dropped the single `` Make It Rain , '' with an executive explaining the delay was related to police brutality protests across the country .\\n`` Music is the tool of revolution . We have been watching , along with the rest of the world , as long overdue change starts to take root . We have seen Pop 's music become the soundtrack of the moment , unifying the masses , '' Steven Victor , senior vice president at Universal , wrote on Instagram . `` Given recent events , we have decided to delay the release of his album out of respect for the movement . ''\\nPop Smoke performs at a party in New York two weeks before his killing .\\nPop Smoke was killed during a home invasion at a Hollywood Hills residence , police said . The 20-year-old was enjoying the success of his sophomore mixtape , which came out the week before his killing .\\nPolice received a call just before 5 a.m. PST from `` someone back East '' who reported that one of their friend 's homes was being broken into and that one of the suspects was armed with a handgun , Los Angeles Police Department Capt . Steve Lurie said at the time .\\nInside , officers found the rapper , who had been shot . He was transported to Cedars-Sinai Medical Center , where he was pronounced dead hours later , the captain said .\\nSeveral people were detained and released in February . Witnesses told investigators that between two and six people broke into the home , one of them wearing a mask , Lurie said .\\nPop Smoke formed part of Brooklyn 's drill scene , popularized by Sheff G , who grew up listening to drill pioneers Chief Keef and G Herbo .\\nThe rapper made a name for himself in the summer of 2019 with the release of his debut mixtape , `` Meet the Woo , '' featuring the trap-influenced anthem `` Welcome to the Party . ''\\nThe video for the song snared more than 24 million views on YouTube , and hip-hop stars Nicki Minaj and Meek Mill dropped remixes .\\n`` My face , my voice was everywhere , you know what I 'm saying ? '' Pop told i-D magazine in a December interview . `` I knew it was gon na be big when I started seeing my face on billboards . ''\\nPop Smoke performs at the Astroworld Festival in Houston , Texas , in November .\\nThe magazine titled its piece , `` Is Pop Smoke the new king of New York ? '' -- a title generally reserved for the likes of Nas , Jay-Z and The Notorious B.I.G .\\nThe Brooklyn-born rhymesmith later collaborated with Quavo , Travis Scott , H.E.R. , A Boogie Wit da Hoodie and Chris Brown .\\nPop 's `` Meet the Woo '' tour was scheduled to kick off with a sold-out show in Washington , D.C. , on March 2 .\\nIn a 2019 New York Times profile , the artist talked about his life before he found fame . His teen years were described as `` high-risk , high-reward . ''\\n`` You like nice things , you got to do things to get nice things , '' he told the paper . `` At 16 , I had a 5 Series ( BMW ) . ''\"\n        ],\n        \"semantic_type\": \"\",\n        \"description\": \"\"\n      }\n    },\n    {\n      \"column\": \"content_original\",\n      \"properties\": {\n        \"dtype\": \"string\",\n        \"num_unique_values\": 37547,\n        \"samples\": [\n          \"President Obama delivered a rousing finale with an emotional tribute to a soldier Tuesday night, but that followed a lengthy speech that received less than rave reviews.\\n\\nWith the sustained ovation for wounded veteran Cory Remsburg, Obama briefly united Congress and the television audience\\u2014even the snark on Twitter was silenced\\u2014but the overall media reaction ranged from respectful to tepid.\\n\\nObama signaled during the media buildup to the speech that he wouldn\\u2019t be making sweeping proposals, and as State of the Union rhetoric goes, \\u201cnew ladders of opportunity\\u201d isn\\u2019t exactly the New Deal.\\n\\nBut the president faced two problems: a Congress that won\\u2019t pass most of his agenda and an anemic economy: \\u201cThe cold, hard fact is that even in the midst of recovery, too many Americans are working more than ever just to get by \\u2013 let alone get ahead. And too many still aren\\u2019t working at all.\\u201d\\n\\nIt was a restrained speech\\u2014\\u201ca set of concrete, practical proposals\\u201d--matching Obama\\u2019s reduced political circumstances after a rough political year.\\n\\n\\u201cHe can\\u2019t do many great things\\u201d without Congress, said CBS\\u2019s Bob Schieffer.\\n\\n\\u201cQuite predictable,\\u201d The Hill\\u2019s A.B. Stoddard said on Fox. \\u201cHe didn\\u2019t break a lot of new ground.\\u201d\\n\\nNBC\\u2019s David Gregory saw \\u201ca feisty president who wants to campaign for his party\\u201d on the minimum wage and other issues.\\n\\n\\u201cA rousing speech for people who like a lot of the agenda items,\\u201d said MSNBC\\u2019s Chris Matthews.\\n\\nBut Fox\\u2019s Kirsten Powers said that \\u201cthe speech was definitely oversold by the White House\\u201d and lacked a sense of \\u201curgency.\\u201d\\n\\nThere were numerous comparisons to Bill Clinton. \\u201cHe sounds like a president who realized he\\u2019s not going to get it down\\u2026and now he\\u2019s playing small ball,\\u201d said Charles Krauthammer.\\n\\nNewspapers also offered subdued assessments. \\u201cThis wasn\\u2019t the presidency Barack Obama had in mind after winning his historic election five years ago. But it is the one he believes he has left,\\u201d said the Washington Post.\\n\\nThe New York Times was slightly more upbeat: \\u201cAfter five years of fractious political combat, President Obama declared independence from Congress on Tuesday as he vowed to tackle economic disparity with a series of limited initiatives on jobs, wages and retirement that he will take without legislative approval.\\u201d\\n\\nThese addresses are generally all talk, but Obama gave his an extra kick by putting out word in the early morning that he would unilaterally raise the minimum wage for federal contractors to at least $10.10\\u2014this as he was about ask Congress to boost the wage floor for all workers. White House officials have been talking up such executive actions precisely because they expect so little from the Hill this year.\\n\\nThe one exception could be immigration, where the House GOP leadership will push a blueprint that gives those here illegally a path toward legal status but not citizenship, the New York Times reports. The president knows he can only muck up these tentative moves toward compromise, so he limited himself to a generic paragraph, urging both parties \\u201cto fix our broken immigration system\\u201d (and at least got a clap from John Boehner, \\u201cson of a barkeep,\\u201d sitting behind him.)\\n\\nThe president talked about pre-K and urged companies to hire the long-term unemployed. He sprinkled his remarks with the names of ordinary people (the owner of Punch Pizza in Minneapolis in his pitch for a higher minimum wage, a newly laid-off mother of two in his push for extending unemployment benefits). And he touted the ObamaCare enrollment numbers and urged more people to sign up.\\n\\nAs for the broad theme of income inequality, Obama is playing to a divided nation. In an NBC/Wall Street Journal poll, 59 percent of Obama voters say the government should do more on that front, while 52 percent of Mitt Romney voters say the government should do nothing.\\n\\nNow Obama hits the road and tries to build a wave of coverage that lasts through the weekend. On the agenda: A Friday interview with CNN's Jake Tapper.\\n\\nClick for more from Media Buzz\",\n          \"Two historic events are in progress today, August 14. The first is the arrival of Secretary of State John Kerry in Cuba. The second is President Obama\\u2019s continued campaign to secure Congressional approval for his flawed nuclear deal with Iran. These two dangerous developments represent the convergence of nearly every flawed strategic, moral, and economic notion that has driven President Obama\\u2019s foreign policy, and as such are emblematic of so many of the crises he has worsened around the world.\\n\\nTo fully understand what we\\u2019re dealing with in regards to Iran and Cuba, we have to understand who we\\u2019re dealing with. In Iran, we face radical Shia clerics who wish to one day unite the world under their version of Islam and who believe this will only happen after a cataclysmic showdown with the West. These leaders have been directly responsible for the deaths of hundreds of Americans and refuse to stop financing terrorists that seek to kill Americans and wipe Israel off the map.\\n\\nIn Cuba, we face proudly anti-American leaders who continue to work with nations like Russia and China to spy on our people and government; who harbor fugitives from American justice; and who stand in opposition to nearly every value our nation holds dear by violating the basic human rights of their own people, preventing democratic elections, and depriving their nation\\u2019s economy of freedom and opportunity.\\n\\nCenturies of global affairs tell us the best way to affect an outcome with volatile leaders is through strength and example, while the worst is through weakness and concession. Yet weakness and concession are the preferred tools of statecraft for this administration.\\n\\nPresident Obama has not only permitted Iran to retain its entire existing nuclear infrastructure, he has also endorsed the construction of a full-scale, industrial-size nuclear program within 15 years. He has conceded a vast enrichment capacity, preserved Iran\\u2019s fortified underground facility, and failed to secure \\u201canytime, anywhere\\u201d inspections. He has virtually guaranteed Iran becomes a regional power with the ability to build long-range missiles capable of hitting the U.S. homeland. And on top of all this, he wants to hand Iran $100 billion in sanctions relief, which will be used in part to fund Hamas and Hezbollah, promote instability in Bahrain and Yemen, and prop up Bashar al-Assad in Syria.\\n\\nThe negotiations with Cuba have proven equally one-sided. President Obama has rewarded the Castro regime for its repressive tactics and persistent, patient opposition to American interests. He has unilaterally given up on a half-century worth of policy toward the Castro regime that was agreed upon by presidents of both parties. He has ensured the regime will receive international legitimacy and a substantial economic boost to benefit its repression of the Cuban people, which has only increased since the President announced his new policy.\\n\\nBeginning on day one, I will undertake a three-part plan to roll back President Obama\\u2019s deal with Iran. First, I will quickly reimpose sanctions on Iran. I will give the mullahs a choice: either you have an economy or you have a nuclear program, but you cannot have both. I will also ask Congress to pass crushing new measures that target human rights abuses and the sponsorship of terrorism. Second, I will ensure our forces in the Middle East are positioned to signal readiness and restore a credible military option. Third, after imposing crippling sanctions on Iran, I will link any talks to Iran\\u2019s broader conduct, from human rights abuses to support for terrorism and threats against Israel.\\n\\nI will undertake an equally bold plan to roll back President Obama\\u2019s concessions to the Castro regime. First, on day one, I will give the Castros a choice: either continue repressing your people and lose the diplomatic relations provided by President Obama, or carry out meaningful political and human rights reforms and receive increased U.S. trade, investment, and support. Second, I will restore Cuba to the state sponsor of terror list until it stops supporting designated Foreign Terrorist Organizations, helping North Korea evade international sanctions, or harboring fugitives from American justice. Third, I will do everything in my power to provide support to Cuba\\u2019s pro-democracy movement and promote greater access to uncensored information for the Cuban people.\\n\\nThese are the actions required to restore the safety and security President Obama has cost us through his diplomacy with dictators. When it comes to the challenges posed by Iran and Cuba, our task is straightforward \\u2013 we must prevent Iran from gaining a nuclear weapon and we must guarantee that the United States stands on the Cuban people, not their oppressors. But we also know that 'straightforward' is not a synonym for 'easy.' Our safety and security will require what it has always required: strong, principled leadership. And that is exactly what I intend to offer our nation and the world in the years ahead.\\n\\n\",\n          \"ANALYSIS/OPINION:\\n\\nSome of our most dedicated feminists are trying to make a good thing of rape, heretofore regarded as one of the more horrific crimes. Once upon a time rape was even a capital crime, like murder. Many men went to the gallows or the electric chair for it.\\n\\nThe mere accusation of rape, like the accusation of molesting children, was usually horrific enough to guarantee conviction. Would a woman lie? Some men accused of rape died at the hands of a mob and many at the hands of the state and were often not actually guilty.\\n\\nRape was serious, dreadful business then. But now, sometimes, not so much.\\n\\nAnger, unfocused resentment and high dudgeon have lately inspired certain young women \\u2014 abetted by men and women in responsible positions who ought to know better (and probably do) \\u2014 to make uncorroborated claims of abuse that trivializes one of the meanest and most brutal crimes that a human can inflict on another.\\n\\nOne young woman, Lena Dunham, has made a television career of a sordid sex life and of being raped, or at least she thinks she was. She wrote a book about it.\\n\\nInnocent reputations suffer. Institutions are damaged when, like men, they pay for crimes that did not exist. Bearing false witness is a crime, too, and a serious one, legally no less than morally.\\n\\nRolling Stone magazine, the journal of rock music that sometimes aspires to big-boy journalism, is the current cause celebre, out with a sensational story of gang rape on the campus of the University of Virginia. Colleges and universities build their reputations slowly and sometimes inadvertently. The University of Alabama is celebrated as the nation\\u2019s foremost football factory. Georgetown is famous for having educated Bubba and infamous for the drunken students who have blighted the quiet residential streets surrounding its campus in Washington. And now Tom Jefferson\\u2019s university has become, fair or not, a place where cautious parents are wary of sending their daughters for a college education. Rolling Stone will now live in infamy as a rag that put a dent in the credibility of modern media everywhere.\\n\\nThe story in the magazine was a horrific one, more a tale from an Arabian night than from the cultured precincts of an American university town. A young women, identified by Rolling Stone only as \\u201cJackie,\\u201d said she went to a party in a fraternity house in Charlottesville and was set upon by a gang of ruffians, raped and scratched and beaten and left to make her escape without help. The details were set down in a story by one Sabrina Rubin Erdely in Rolling Stone.\\n\\n\\u201cJackie\\u201d provided neither corroborating evidence, and the magazine did not ask for a witness to go on the record with details. Her story was told in the usual purple ink, as evidence of the \\u201crape epidemic\\u201d said to be roiling campuses everywhere. \\u201cWho would lie about rape?\\u201d\\n\\nWhen her story began unravel, as others sought but could not find corroboration or evidence to support her story, Rolling Stone was left to explain the greater sin of the story. Feminists trotted out their usual shock that anyone could question a rape accusation; \\u201crape denial,\\u201d said one, \\u201cis like denying the Holocaust.\\u201d Maybe nothing happened, but it could have. Isn\\u2019t that enough?\\n\\nRolling Stone\\u2019s only defense was an apology, subject to revision, which in an earlier day would have been an unanswerable indictment of both its editors and its publishers. The apologies, such as they were, suggested that the university\\u2019s \\u201ctroubling history of indifference to many other instances of alleged sexual assaults\\u201d was to blame for its careless disregard for the fundamental canons of journalism. Newspapers and magazines have slipped into the newspaper graveyard for less.\\n\\n\\u201cBecause of the sensitive nature of Jackie\\u2019s story,\\u201d wrote Will Dana, the managing editor, \\u201cwe decided to honor her request not to contact the man she claimed participated in the attack, for fear of retaliation against her.\\u201d Facts have destroyed many a good story, and the magazine didn\\u2019t want that to happen to its account of Jackie\\u2019s lurid tale.\\n\\n\\u201cIn the face of new information,\\u201d the apology continued, \\u201cthere now appear to be discrepancies in Jackie\\u2019s account, and we have come to the conclusion that our trust in her was misplaced.\\u201d It wasn\\u2019t Rolling Stone\\u2019s fault, it was Jackie\\u2019s. \\u201cWe were trying to be sensitive to the unfair shame and humiliation many women feel after a sexual assault and now regret the decision to not contact the alleged assaulters to get their account.\\u201d It wasn\\u2019t Rolling Stone\\u2019s fault that it sold fiction as fact, it was society\\u2019s fault. Lawyers are now on the scout for an identifiable plaintiff against the Stone.\\n\\n\\u2022 Wesley Pruden is editor emeritus of The Washington Times.\\n\\nSign up for Daily Opinion Newsletter Manage Newsletters\\n\\nCopyright \\u00a9 2019 The Washington Times, LLC. Click here for reprint permission.\"\n        ],\n        \"semantic_type\": \"\",\n        \"description\": \"\"\n      }\n    },\n    {\n      \"column\": \"source_url\",\n      \"properties\": {\n        \"dtype\": \"category\",\n        \"num_unique_values\": 467,\n        \"samples\": [\n          \"www.dailywire.com\",\n          \"www.dailychela.com\",\n          \"www.theguardian.com\"\n        ],\n        \"semantic_type\": \"\",\n        \"description\": \"\"\n      }\n    },\n    {\n      \"column\": \"bias_text\",\n      \"properties\": {\n        \"dtype\": \"category\",\n        \"num_unique_values\": 3,\n        \"samples\": [\n          \"left\",\n          \"right\",\n          \"center\"\n        ],\n        \"semantic_type\": \"\",\n        \"description\": \"\"\n      }\n    },\n    {\n      \"column\": \"ID\",\n      \"properties\": {\n        \"dtype\": \"string\",\n        \"num_unique_values\": 37554,\n        \"samples\": [\n          \"QX3G4NCbL3jDLGea\",\n          \"LIcpSNgSbA3yiZ7j\",\n          \"JSMyDixsfqeO6SmL\"\n        ],\n        \"semantic_type\": \"\",\n        \"description\": \"\"\n      }\n    }\n  ]\n}"
            }
          },
          "metadata": {},
          "execution_count": 4
        }
      ],
      "source": [
        "# Find the CSV file within the downloaded directory:\n",
        "for filename in os.listdir(path):\n",
        "  if filename.endswith(\".csv\"):\n",
        "    csv_file_path = os.path.join(path, filename)\n",
        "    break # Stop after finding the first CSV file\n",
        "\n",
        "\n",
        "bias_raw_df = pd.read_csv(csv_file_path)\n",
        "bias_raw_df.head()"
      ]
    },
    {
      "cell_type": "code",
      "source": [
        "len(bias_raw_df)"
      ],
      "metadata": {
        "colab": {
          "base_uri": "https://localhost:8080/"
        },
        "id": "vDm9zJ6b71nS",
        "outputId": "575396a7-13b5-47b3-965f-0593e9243e55"
      },
      "execution_count": 3,
      "outputs": [
        {
          "output_type": "execute_result",
          "data": {
            "text/plain": [
              "37554"
            ]
          },
          "metadata": {},
          "execution_count": 3
        }
      ]
    },
    {
      "cell_type": "code",
      "source": [
        "bias_raw_df.groupby('bias_text').count().plot(kind='pie', y='ID', autopct='%1.0f%%')"
      ],
      "metadata": {
        "colab": {
          "base_uri": "https://localhost:8080/",
          "height": 423
        },
        "id": "ExGujX3a8YFh",
        "outputId": "07e18e7e-77b0-43b1-9cab-13dc8433bc6f"
      },
      "execution_count": 5,
      "outputs": [
        {
          "output_type": "execute_result",
          "data": {
            "text/plain": [
              "<Axes: ylabel='ID'>"
            ]
          },
          "metadata": {},
          "execution_count": 5
        },
        {
          "output_type": "display_data",
          "data": {
            "text/plain": [
              "<Figure size 640x480 with 1 Axes>"
            ],
            "image/png": "[encoded data removed]"
          },
          "metadata": {}
        }
      ]
    },
    {
      "cell_type": "code",
      "source": [
        "from sklearn.model_selection import train_test_split\n",
        "\n",
        "X_train, X_test, y_train, y_test = train_test_split(bias_raw_df['content_original'], bias_raw_df['bias_text'], test_size=0.2, random_state=42)"
      ],
      "metadata": {
        "id": "RpLwjHQp8yhm"
      },
      "execution_count": 6,
      "outputs": []
    },
    {
      "cell_type": "code",
      "source": [
        "X_train[0]"
      ],
      "metadata": {
        "colab": {
          "base_uri": "https://localhost:8080/",
          "height": 137
        },
        "id": "ctzt6q3O9ZyZ",
        "outputId": "4fc51e89-d3ab-416f-f1be-cdbf7b11b699"
      },
      "execution_count": 7,
      "outputs": [
        {
          "output_type": "execute_result",
          "data": {
            "text/plain": [
              "'Besides his most recent trip to Quetta, Mr. Rahami visited Karachi, Pakistan, in 2005. Both of those cities’ reputations have become entwined with the militant groups who have sheltered there: Karachi as a haven for the Pakistani Taliban and Al Qaeda, and Quetta as the headquarters of the exiled Afghan Taliban leadership. But both cities are also home to generations of Afghans who have fled violence in their home country.\\n\\nMuch about his New Jersey life did seem unremarkable. Amarjit Singh, a limousine driver, was friends with Mr. Rahami at Edison High School. The person he knew, he said, was a determined student with an abundance of friends and a string of girlfriends. “Everyone seemed to like him,” he said. “Smart, funny, humble.”\\n\\nHe viewed the teenage Mr. Rahami as the prototypical immigrant, teetering between two worlds. While he wore jeans and sweatshirts like his friends and worked at a Pathmark supermarket after school, he preferred Afghan music and prayed at the mosque on Friday. Collisions between those worlds sometimes led to rifts with his father, who was more religious and traditional. “The two of them would argue,” Mr. Singh said. “There seemed to be a lot of tension.”\\n\\nHis father was especially displeased when Mr. Rahami had a daughter with a high school girlfriend, according to friends. Reached at her home on Monday night, she declined to comment. “My heart is just broken,” said the woman, who The New York Times is not identifying. “I don’t even know what to think.”\\n\\nAfter high school, Mr. Singh said that he and Mr. Rahami had worked together for a while on the night shift at Royal Fried Chicken in Newark. Mr. Singh worked the fryer in the back. Mr. Rahami handled the register. Whenever Mr. Singh got into a dispute with customers, he remembered Mr. Rahami stepping in as the peacemaker. In recent years, the two drifted apart. Mr. Singh was also aware that Mr. Rahami had traveled abroad and that he had become more religious and had taken to wearing Muslim robes.\\n\\nThe events on Monday were not Mr. Rahami’s first encounter with law enforcement. He was arrested in 2014 on weapons and aggravated assault charges for allegedly stabbing a relative in the leg in a domestic incident, according to court documents. He spent over three months in jail on the charges, according to a high-ranking law enforcement official with knowledge of the investigation. A grand jury, however, declined to indict Mr. Rahami. He also spent a day in jail in February 2012 for allegedly violating a restraining order, the official said.'"
            ],
            "application/vnd.google.colaboratory.intrinsic+json": {
              "type": "string"
            }
          },
          "metadata": {},
          "execution_count": 7
        }
      ]
    },
    {
      "cell_type": "markdown",
      "source": [
        "# NLTK Pre-processing"
      ],
      "metadata": {
        "id": "nkkfMA8Q9x-E"
      }
    },
    {
      "cell_type": "code",
      "source": [
        "import nltk\n",
        "nltk.download('punkt')\n",
        "nltk.download('punkt_tab')\n",
        "from nltk.tokenize import word_tokenize\n",
        "\n",
        "# Tokenization\n",
        "X_token_train = [word_tokenize(line)[:100] for line in X_train]\n",
        "X_token_test = [word_tokenize(line)[:100] for line in X_test]"
      ],
      "metadata": {
        "colab": {
          "base_uri": "https://localhost:8080/"
        },
        "id": "GQDa4CPq93d2",
        "outputId": "10c01d6f-ad90-4ff0-da96-3699b69d7bc9"
      },
      "execution_count": 14,
      "outputs": [
        {
          "output_type": "stream",
          "name": "stderr",
          "text": [
            "[nltk_data] Downloading package punkt to /root/nltk_data...\n",
            "[nltk_data]   Package punkt is already up-to-date!\n",
            "[nltk_data] Downloading package punkt_tab to /root/nltk_data...\n",
            "[nltk_data]   Package punkt_tab is already up-to-date!\n"
          ]
        }
      ]
    },
    {
      "cell_type": "code",
      "source": [
        "print(X_token_train[0])"
      ],
      "metadata": {
        "colab": {
          "base_uri": "https://localhost:8080/"
        },
        "id": "OXfhXZA1HvJc",
        "outputId": "45102f59-b597-4bd9-e9ce-239507e7f011"
      },
      "execution_count": 15,
      "outputs": [
        {
          "output_type": "stream",
          "name": "stdout",
          "text": [
            "['Washington', 'What', 'does', 'the', 'future', 'have', 'in', 'store', 'for', 'us', 'if', 'Congress', 'succeeds', 'in', 'impeaching', 'President', 'Donald', 'Trump', ',', 'the', 'president', 'who', 'presides', 'over', 'the', 'best', 'economy', 'America', 'has', 'had', 'in', 'the', 'last', '50', 'years', '?', 'I', 'think', 'you', 'can', 'look', 'to', 'South', 'America', 'for', 'a', 'glimpse', 'of', 'the', 'Great', 'Republic', 'that', 'will', 'be', 'vouchsafed', 'us', 'by', 'the', 'congressgirls', 'from', 'what', 'is', 'called', '“', 'the', 'Squad', '”', 'and', 'from', 'the', 'most', 'foul-mouthed', 'field', 'of', 'Democratic', 'candidates', 'ever', 'to', 'run', 'for', 'the', 'presidency', '.', 'Already', 'the', 'Democratic', 'National', 'Committee', 'has', 'asked', 'the', 'candidates', 'to', 'avoid', 'crude', 'back-alley', 'language', 'in', 'their', 'debates']\n"
          ]
        }
      ]
    },
    {
      "cell_type": "code",
      "source": [
        "nltk.download('wordnet')\n",
        "from nltk.stem import WordNetLemmatizer\n",
        "\n",
        "# Lemmatization\n",
        "lemmatizer = WordNetLemmatizer()\n",
        "lemma_X_train = [[lemmatizer.lemmatize(word) for word in line] for line in X_token_train]\n",
        "lemma_X_test = [[lemmatizer.lemmatize(word) for word in line] for line in X_token_test]\n",
        "print(lemma_X_train[0])"
      ],
      "metadata": {
        "colab": {
          "base_uri": "https://localhost:8080/"
        },
        "id": "KIUsleS0H7Ja",
        "outputId": "a581ad87-9732-444a-fa33-5cbcb82682eb"
      },
      "execution_count": 16,
      "outputs": [
        {
          "output_type": "stream",
          "name": "stderr",
          "text": [
            "[nltk_data] Downloading package wordnet to /root/nltk_data...\n",
            "[nltk_data]   Package wordnet is already up-to-date!\n"
          ]
        },
        {
          "output_type": "stream",
          "name": "stdout",
          "text": [
            "['Washington', 'What', 'doe', 'the', 'future', 'have', 'in', 'store', 'for', 'u', 'if', 'Congress', 'succeeds', 'in', 'impeaching', 'President', 'Donald', 'Trump', ',', 'the', 'president', 'who', 'presides', 'over', 'the', 'best', 'economy', 'America', 'ha', 'had', 'in', 'the', 'last', '50', 'year', '?', 'I', 'think', 'you', 'can', 'look', 'to', 'South', 'America', 'for', 'a', 'glimpse', 'of', 'the', 'Great', 'Republic', 'that', 'will', 'be', 'vouchsafed', 'u', 'by', 'the', 'congressgirls', 'from', 'what', 'is', 'called', '“', 'the', 'Squad', '”', 'and', 'from', 'the', 'most', 'foul-mouthed', 'field', 'of', 'Democratic', 'candidate', 'ever', 'to', 'run', 'for', 'the', 'presidency', '.', 'Already', 'the', 'Democratic', 'National', 'Committee', 'ha', 'asked', 'the', 'candidate', 'to', 'avoid', 'crude', 'back-alley', 'language', 'in', 'their', 'debate']\n"
          ]
        }
      ]
    },
    {
      "cell_type": "code",
      "source": [
        "nltk.download('stopwords')\n",
        "from nltk.corpus import stopwords\n",
        "\n",
        "# Remove stopwords\n",
        "clear_X_train = [[word for word in line if word not in stopwords.words('english')] for line in lemma_X_train]\n",
        "clear_X_test = [[word for word in line if word not in stopwords.words('english')] for line in lemma_X_test]\n",
        "print(clear_X_train[0])"
      ],
      "metadata": {
        "colab": {
          "base_uri": "https://localhost:8080/"
        },
        "id": "nnpGK0FiXo6V",
        "outputId": "6965ab5f-5bbe-448a-eebc-bcb4993eeefb"
      },
      "execution_count": 17,
      "outputs": [
        {
          "output_type": "stream",
          "name": "stderr",
          "text": [
            "[nltk_data] Downloading package stopwords to /root/nltk_data...\n",
            "[nltk_data]   Package stopwords is already up-to-date!\n"
          ]
        },
        {
          "output_type": "stream",
          "name": "stdout",
          "text": [
            "['Washington', 'What', 'doe', 'future', 'store', 'u', 'Congress', 'succeeds', 'impeaching', 'President', 'Donald', 'Trump', ',', 'president', 'presides', 'best', 'economy', 'America', 'ha', 'last', '50', 'year', '?', 'I', 'think', 'look', 'South', 'America', 'glimpse', 'Great', 'Republic', 'vouchsafed', 'u', 'congressgirls', 'called', '“', 'Squad', '”', 'foul-mouthed', 'field', 'Democratic', 'candidate', 'ever', 'run', 'presidency', '.', 'Already', 'Democratic', 'National', 'Committee', 'ha', 'asked', 'candidate', 'avoid', 'crude', 'back-alley', 'language', 'debate']\n"
          ]
        }
      ]
    },
    {
      "cell_type": "code",
      "source": [
        "from sklearn.feature_extraction.text import TfidfVectorizer\n",
        "\n",
        "# Initiate a tfidf vectorizer object\n",
        "vectorizer = TfidfVectorizer(preprocessor=' '.join)\n",
        "# Fitting the training dataset and transform it\n",
        "X_train_tfidf = vectorizer.fit_transform(clear_X_train)\n",
        "# Transform the test dataset\n",
        "X_test_tfidf = vectorizer.transform(clear_X_test)\n",
        "\n",
        "print(X_train_tfidf.shape)"
      ],
      "metadata": {
        "colab": {
          "base_uri": "https://localhost:8080/"
        },
        "id": "qgTFjLTQkgS8",
        "outputId": "197245d4-6347-4e49-e13a-ce09db89a607"
      },
      "execution_count": 18,
      "outputs": [
        {
          "output_type": "stream",
          "name": "stdout",
          "text": [
            "(30043, 52460)\n"
          ]
        }
      ]
    },
    {
      "cell_type": "code",
      "source": [
        "print(X_train_tfidf[0])"
      ],
      "metadata": {
        "colab": {
          "base_uri": "https://localhost:8080/"
        },
        "id": "4r_-RSqGk4Ng",
        "outputId": "d516ba96-16c9-4b18-86db-c7edf92f2810"
      },
      "execution_count": 19,
      "outputs": [
        {
          "output_type": "stream",
          "name": "stdout",
          "text": [
            "  (0, 25356)\t0.07893613706089225\n",
            "  (0, 25544)\t0.10506692920870823\n",
            "  (0, 33134)\t0.10529756637312292\n",
            "  (0, 35884)\t0.11985895968144258\n",
            "  (0, 48473)\t0.14524349898440292\n",
            "  (0, 6275)\t0.0840494144638427\n",
            "  (0, 48766)\t0.21086871568636933\n",
            "  (0, 37692)\t0.18941882353165473\n",
            "  (0, 18965)\t0.049660962729997975\n",
            "  (0, 7870)\t0.06225912726842744\n",
            "  (0, 24118)\t0.05014663902931318\n",
            "  (0, 43722)\t0.06946947673640935\n",
            "  (0, 43728)\t0.21086871568636933\n",
            "  (0, 28302)\t0.1171871558941824\n",
            "  (0, 33587)\t0.10568708422564219\n",
            "  (0, 2365)\t0.18282443662448963\n",
            "  (0, 36625)\t0.10180682033187166\n",
            "  (0, 39221)\t0.07749484932208506\n",
            "  (0, 1022)\t0.12124220065462495\n",
            "  (0, 52373)\t0.062222290938514065\n",
            "  (0, 49642)\t0.10072673563558326\n",
            "  (0, 39740)\t0.10753903186045838\n",
            "  (0, 22375)\t0.11134685039669204\n",
            "  (0, 36162)\t0.18438317738406382\n",
            "  (0, 10635)\t0.14243901485442587\n",
            "  (0, 20065)\t0.16248452740738095\n",
            "  (0, 51668)\t0.2485448248627763\n",
            "  (0, 30765)\t0.2485448248627763\n",
            "  (0, 29289)\t0.09337032672874856\n",
            "  (0, 22515)\t0.21333515086857732\n",
            "  (0, 35624)\t0.19464249866467706\n",
            "  (0, 40982)\t0.23905309637652294\n",
            "  (0, 35065)\t0.1291595892874559\n",
            "  (0, 7402)\t0.15618270439170326\n",
            "  (0, 29339)\t0.17201983944417612\n",
            "  (0, 34351)\t0.11440615238145574\n",
            "  (0, 46202)\t0.10529756637312292\n",
            "  (0, 43721)\t0.11801474007404057\n",
            "  (0, 2279)\t0.18438317738406382\n",
            "  (0, 16752)\t0.09665368856800133\n",
            "  (0, 6129)\t0.09763528584063881\n",
            "  (0, 27513)\t0.11039923322728125\n",
            "  (0, 27798)\t0.1342409570957329\n",
            "  (0, 31500)\t0.18438317738406382\n",
            "  (0, 27858)\t0.08786673722492075\n",
            "  (0, 26917)\t0.2192182916622458\n",
            "  (0, 39196)\t0.1390471831811054\n",
            "  (0, 31838)\t0.09374463689401129\n"
          ]
        }
      ]
    }
  ],
  "metadata": {
    "kernelspec": {
      "display_name": "Python 3",
      "name": "python3"
    },
    "language_info": {
      "codemirror_mode": {
        "name": "ipython",
        "version": 3
      },
      "file_extension": ".py",
      "mimetype": "text/x-python",
      "name": "python",
      "nbconvert_exporter": "python",
      "pygments_lexer": "ipython3",
      "version": "3.11.5"
    },
    "colab": {
      "provenance": [],
      "machine_shape": "hm",
      "gpuType": "A100",
      "include_colab_link": true
    },
    "accelerator": "GPU"
  },
  "nbformat": 4,
  "nbformat_minor": 0
}