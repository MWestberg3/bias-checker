{
  "cells": [
    {
      "cell_type": "markdown",
      "metadata": {
        "id": "view-in-github"
      },
      "source": [
        "<a href=\"https://colab.research.google.com/github/MWestberg3/bias-checker/blob/baseline-RNN/bias_checker.ipynb\" target=\"_parent\"><img src=\"https://colab.research.google.com/assets/colab-badge.svg\" alt=\"Open In Colab\"/></a>"
      ]
    },
    {
      "cell_type": "markdown",
      "metadata": {
        "id": "ttiQehWh3eNK"
      },
      "source": [
        "### Imports"
      ]
    },
    {
      "cell_type": "code",
      "execution_count": 88,
      "metadata": {
        "colab": {
          "base_uri": "https://localhost:8080/"
        },
        "id": "AmEJwEY03eNL",
        "outputId": "fb34b4ee-379c-4df4-ae70-594a676fe911"
      },
      "outputs": [
        {
          "output_type": "stream",
          "name": "stdout",
          "text": [
            "Path to dataset:  /root/.cache/kagglehub/datasets/subhankarpanda56/news-bias/versions/1\n"
          ]
        }
      ],
      "source": [
        "import pandas as pd\n",
        "import kagglehub as kh\n",
        "import os\n",
        "\n",
        "path = kh.dataset_download(\"subhankarpanda56/news-bias\")\n",
        "\n",
        "print(\"Path to dataset: \", path)"
      ]
    },
    {
      "cell_type": "code",
      "execution_count": 89,
      "metadata": {
        "id": "KXLN1i883eNM",
        "colab": {
          "base_uri": "https://localhost:8080/"
        },
        "outputId": "737ec75c-518b-49c4-e267-c43c6eeb8497"
      },
      "outputs": [
        {
          "output_type": "stream",
          "name": "stdout",
          "text": [
            "           topic                 source  bias  \\\n",
            "0      terrorism  New York Times - News     0   \n",
            "1  supreme_court                    Vox     0   \n",
            "2      education             Ezra Klein     0   \n",
            "3       us_house         Breitbart News     2   \n",
            "4    white_house    Guest Writer - Left     0   \n",
            "\n",
            "                                                 url  \\\n",
            "0  http://www.nytimes.com/2016/09/20/nyregion/ahm...   \n",
            "1  https://www.vox.com/policy-and-politics/2018/9...   \n",
            "2  http://www.npr.org/blogs/thetwo-way/2014/05/06...   \n",
            "3  http://www.breitbart.com/big-government/2017/0...   \n",
            "4  https://www.cnn.com/2019/07/11/politics/donald...   \n",
            "\n",
            "                                               title        date  \\\n",
            "0  Bomb Suspect Changed After Trip Abroad, Friend...  2016-09-20   \n",
            "1  Why Susan Collins claims she’s being bribed ov...  2018-09-12   \n",
            "2  Poll: Prestigious Colleges Won't Make You Happ...  2014-05-06   \n",
            "3  Paul Ryan Reportedly Says No Chance for Border...  2017-09-12   \n",
            "4  OPINION: Trump seeking change of legal fortune...  2019-07-11   \n",
            "\n",
            "                                             authors  \\\n",
            "0                                   N. R. Kleinfield   \n",
            "1  Emily Stewart, Terry Nguyen, Rebecca Jennings,...   \n",
            "2                                      Anya Kamenetz   \n",
            "3                                          Ian Mason   \n",
            "4                         Analysis Stephen Collinson   \n",
            "\n",
            "                                             content  \\\n",
            "0  Besides his most recent trip to Quetta , Mr. R...   \n",
            "1  Is Maine Republican Sen. Susan Collins being b...   \n",
            "2  Poll : Prestigious Colleges Wo n't Make You Ha...   \n",
            "3  House Speaker Paul Ryan , at a private dinner ...   \n",
            "4  ( CNN ) President Donald Trump has reason to h...   \n",
            "\n",
            "                                    content_original         source_url  \\\n",
            "0  Besides his most recent trip to Quetta, Mr. Ra...    www.nytimes.com   \n",
            "1  Is Maine Republican Sen. Susan Collins being b...        www.vox.com   \n",
            "2  Poll: Prestigious Colleges Won't Make You Happ...        www.npr.org   \n",
            "3  House Speaker Paul Ryan, at a private dinner e...  www.breitbart.com   \n",
            "4  (CNN) President Donald Trump has reason to hop...        www.cnn.com   \n",
            "\n",
            "  bias_text                ID  \n",
            "0      left  004Gt3gcsotuiYmz  \n",
            "1      left  00eP4XD3VdMmHITE  \n",
            "2      left  00FTGIZEd6B8zQ4U  \n",
            "3     right  00HGGqBRf1kzPRlg  \n",
            "4      left  00IzI5ynahBVtC9l  \n"
          ]
        }
      ],
      "source": [
        "# Find the CSV file within the downloaded directory:\n",
        "for filename in os.listdir(path):\n",
        "  if filename.endswith(\".csv\"):\n",
        "    csv_file_path = os.path.join(path, filename)\n",
        "    break # Stop after finding the first CSV file\n",
        "\n",
        "\n",
        "bias_raw_df = pd.read_csv(csv_file_path).iloc[:500]\n",
        "print(bias_raw_df.head())"
      ]
    },
    {
      "cell_type": "code",
      "execution_count": 90,
      "metadata": {
        "id": "vDm9zJ6b71nS",
        "colab": {
          "base_uri": "https://localhost:8080/"
        },
        "outputId": "d1478a15-a3c9-41c6-9f59-14a536ad0e19"
      },
      "outputs": [
        {
          "output_type": "execute_result",
          "data": {
            "text/plain": [
              "500"
            ]
          },
          "metadata": {},
          "execution_count": 90
        }
      ],
      "source": [
        "len(bias_raw_df)"
      ]
    },
    {
      "cell_type": "code",
      "execution_count": 91,
      "metadata": {
        "id": "ExGujX3a8YFh",
        "colab": {
          "base_uri": "https://localhost:8080/",
          "height": 423
        },
        "outputId": "f1e0f33b-c788-4792-e46c-e2a399be48c4"
      },
      "outputs": [
        {
          "output_type": "execute_result",
          "data": {
            "text/plain": [
              "<Axes: ylabel='ID'>"
            ]
          },
          "metadata": {},
          "execution_count": 91
        },
        {
          "output_type": "display_data",
          "data": {
            "text/plain": [
              "<Figure size 640x480 with 1 Axes>"
            ],
            "image/png": "[encoded data removed]"
          },
          "metadata": {}
        }
      ],
      "source": [
        "bias_raw_df.groupby('bias_text').count().plot(kind='pie', y='ID', autopct='%1.0f%%')"
      ]
    },
    {
      "cell_type": "code",
      "execution_count": 92,
      "metadata": {
        "id": "RpLwjHQp8yhm"
      },
      "outputs": [],
      "source": [
        "from sklearn.model_selection import train_test_split\n",
        "\n",
        "X_train, X_test, y_train, y_test = train_test_split(bias_raw_df['content_original'], bias_raw_df['bias_text'], test_size=0.2, random_state=42)"
      ]
    },
    {
      "cell_type": "code",
      "execution_count": 93,
      "metadata": {
        "id": "ctzt6q3O9ZyZ"
      },
      "outputs": [],
      "source": [
        "#X_train[0]"
      ]
    },
    {
      "cell_type": "markdown",
      "metadata": {
        "id": "nkkfMA8Q9x-E"
      },
      "source": [
        "# NLTK Pre-processing"
      ]
    },
    {
      "cell_type": "code",
      "execution_count": 94,
      "metadata": {
        "id": "GQDa4CPq93d2",
        "colab": {
          "base_uri": "https://localhost:8080/"
        },
        "outputId": "9d94c063-64e5-451f-9da4-f2d642f8238c"
      },
      "outputs": [
        {
          "output_type": "stream",
          "name": "stderr",
          "text": [
            "[nltk_data] Downloading package punkt to /root/nltk_data...\n",
            "[nltk_data]   Package punkt is already up-to-date!\n",
            "[nltk_data] Downloading package punkt_tab to /root/nltk_data...\n",
            "[nltk_data]   Package punkt_tab is already up-to-date!\n"
          ]
        }
      ],
      "source": [
        "import nltk\n",
        "nltk.download('punkt')\n",
        "nltk.download('punkt_tab')\n",
        "from nltk.tokenize import word_tokenize\n",
        "\n",
        "# Tokenization\n",
        "X_token_train = [word_tokenize(line)[:100] for line in X_train]\n",
        "X_token_test = [word_tokenize(line)[:100] for line in X_test]"
      ]
    },
    {
      "cell_type": "code",
      "execution_count": 95,
      "metadata": {
        "id": "OXfhXZA1HvJc",
        "colab": {
          "base_uri": "https://localhost:8080/"
        },
        "outputId": "50d33623-7bea-4a4f-bd18-f60f54a22905"
      },
      "outputs": [
        {
          "output_type": "stream",
          "name": "stdout",
          "text": [
            "['Emails', 'sent', 'to', 'Hillary', 'Clinton', '’', 's', 'campaign', 'chairman', 'John', 'Podesta', 'reveal', '$', '3m', 'campaign', 'aimed', 'to', 'put', 'media', 'mogul', '‘', 'on', 'the', 'defensive', '’', 'and', 'help', 'conservative', 'politicians', 'support', 'global', 'warming', 'action', 'A', 'well-funded', 'international', 'campaign', 'to', 'counter', 'the', 'influence', 'of', 'Rupert', 'Murdoch', '’', 's', 'media', 'empire', 'on', 'climate', 'change', 'has', 'been', 'planned', ',', 'emails', 'to', 'Hillary', 'Clinton', '’', 's', 'campaign', 'chairman', 'reveal', '.', 'The', 'plan', 'to', 'use', '“', 'guerilla', 'tactics', '”', ',', 'civil', 'disobedience', 'and', 'targeted', 'advertising', 'appears', 'to', 'have', 'been', 'hatched', 'by', 'David', 'Fenton', ',', 'founder', 'of', 'Fenton', 'Communications', ',', 'a', 'US', 'public', 'relations', 'agency', '.', 'The']\n"
          ]
        }
      ],
      "source": [
        "print(X_token_train[0])"
      ]
    },
    {
      "cell_type": "code",
      "execution_count": 96,
      "metadata": {
        "id": "KIUsleS0H7Ja",
        "colab": {
          "base_uri": "https://localhost:8080/"
        },
        "outputId": "b126497b-eb62-4164-9cf7-f1a92ec48a8c"
      },
      "outputs": [
        {
          "output_type": "stream",
          "name": "stdout",
          "text": [
            "['Emails', 'sent', 'to', 'Hillary', 'Clinton', '’', 's', 'campaign', 'chairman', 'John', 'Podesta', 'reveal', '$', '3m', 'campaign', 'aimed', 'to', 'put', 'medium', 'mogul', '‘', 'on', 'the', 'defensive', '’', 'and', 'help', 'conservative', 'politician', 'support', 'global', 'warming', 'action', 'A', 'well-funded', 'international', 'campaign', 'to', 'counter', 'the', 'influence', 'of', 'Rupert', 'Murdoch', '’', 's', 'medium', 'empire', 'on', 'climate', 'change', 'ha', 'been', 'planned', ',', 'email', 'to', 'Hillary', 'Clinton', '’', 's', 'campaign', 'chairman', 'reveal', '.', 'The', 'plan', 'to', 'use', '“', 'guerilla', 'tactic', '”', ',', 'civil', 'disobedience', 'and', 'targeted', 'advertising', 'appears', 'to', 'have', 'been', 'hatched', 'by', 'David', 'Fenton', ',', 'founder', 'of', 'Fenton', 'Communications', ',', 'a', 'US', 'public', 'relation', 'agency', '.', 'The']\n"
          ]
        },
        {
          "output_type": "stream",
          "name": "stderr",
          "text": [
            "[nltk_data] Downloading package wordnet to /root/nltk_data...\n",
            "[nltk_data]   Package wordnet is already up-to-date!\n"
          ]
        }
      ],
      "source": [
        "nltk.download('wordnet')\n",
        "from nltk.stem import WordNetLemmatizer\n",
        "\n",
        "# Lemmatization\n",
        "lemmatizer = WordNetLemmatizer()\n",
        "lemma_X_train = [[lemmatizer.lemmatize(word) for word in line] for line in X_token_train]\n",
        "lemma_X_test = [[lemmatizer.lemmatize(word) for word in line] for line in X_token_test]\n",
        "print(lemma_X_train[0])"
      ]
    },
    {
      "cell_type": "code",
      "execution_count": 97,
      "metadata": {
        "id": "nnpGK0FiXo6V",
        "colab": {
          "base_uri": "https://localhost:8080/"
        },
        "outputId": "9cc7dfab-7bc3-4549-cbfe-568495672560"
      },
      "outputs": [
        {
          "output_type": "stream",
          "name": "stderr",
          "text": [
            "[nltk_data] Downloading package stopwords to /root/nltk_data...\n",
            "[nltk_data]   Package stopwords is already up-to-date!\n"
          ]
        },
        {
          "output_type": "stream",
          "name": "stdout",
          "text": [
            "['Emails', 'sent', 'Hillary', 'Clinton', '’', 'campaign', 'chairman', 'John', 'Podesta', 'reveal', '$', '3m', 'campaign', 'aimed', 'put', 'medium', 'mogul', '‘', 'defensive', '’', 'help', 'conservative', 'politician', 'support', 'global', 'warming', 'action', 'A', 'well-funded', 'international', 'campaign', 'counter', 'influence', 'Rupert', 'Murdoch', '’', 'medium', 'empire', 'climate', 'change', 'ha', 'planned', ',', 'email', 'Hillary', 'Clinton', '’', 'campaign', 'chairman', 'reveal', '.', 'The', 'plan', 'use', '“', 'guerilla', 'tactic', '”', ',', 'civil', 'disobedience', 'targeted', 'advertising', 'appears', 'hatched', 'David', 'Fenton', ',', 'founder', 'Fenton', 'Communications', ',', 'US', 'public', 'relation', 'agency', '.', 'The']\n"
          ]
        }
      ],
      "source": [
        "nltk.download('stopwords')\n",
        "from nltk.corpus import stopwords\n",
        "\n",
        "# Remove stopwords\n",
        "clear_X_train = [[word for word in line if word not in stopwords.words('english')] for line in lemma_X_train]\n",
        "clear_X_test = [[word for word in line if word not in stopwords.words('english')] for line in lemma_X_test]\n",
        "print(clear_X_train[0])"
      ]
    },
    {
      "cell_type": "code",
      "execution_count": 98,
      "metadata": {
        "id": "qgTFjLTQkgS8",
        "colab": {
          "base_uri": "https://localhost:8080/"
        },
        "outputId": "c5e1cbea-7cb7-418e-ade4-db0d3e922a96"
      },
      "outputs": [
        {
          "output_type": "stream",
          "name": "stdout",
          "text": [
            "(400, 6654)\n"
          ]
        }
      ],
      "source": [
        "from sklearn.feature_extraction.text import TfidfVectorizer\n",
        "\n",
        "# Initiate a tfidf vectorizer object\n",
        "vectorizer = TfidfVectorizer(preprocessor=' '.join)\n",
        "# Fitting the training dataset and transform it\n",
        "X_train_tfidf = vectorizer.fit_transform(clear_X_train)\n",
        "# Transform the test dataset\n",
        "X_test_tfidf = vectorizer.transform(clear_X_test)\n",
        "\n",
        "print(X_train_tfidf.shape)"
      ]
    },
    {
      "cell_type": "code",
      "execution_count": 99,
      "metadata": {
        "id": "4r_-RSqGk4Ng",
        "colab": {
          "base_uri": "https://localhost:8080/"
        },
        "outputId": "1bfa52bd-f1f0-4fdf-ffb7-7ca35a43780b"
      },
      "outputs": [
        {
          "output_type": "stream",
          "name": "stdout",
          "text": [
            "  (0, 734)\t0.1404050583331656\n",
            "  (0, 5696)\t0.11248894292632855\n",
            "  (0, 975)\t0.1781901752942023\n",
            "  (0, 512)\t0.16163060036551163\n",
            "  (0, 2760)\t0.2662117600209626\n",
            "  (0, 2832)\t0.23184796147960285\n",
            "  (0, 1101)\t0.08081530018275582\n",
            "  (0, 1594)\t0.1404050583331656\n",
            "  (0, 5547)\t0.2808101166663312\n",
            "  (0, 102)\t0.1404050583331656\n",
            "  (0, 2329)\t0.11592398073980142\n",
            "  (0, 5290)\t0.10454092790024613\n",
            "  (0, 4644)\t0.17601573066592874\n",
            "  (0, 4714)\t0.13136982099294642\n",
            "  (0, 3240)\t0.1404050583331656\n",
            "  (0, 4086)\t0.09406753757373065\n",
            "  (0, 3032)\t0.08412263772047165\n",
            "  (0, 5104)\t0.11248894292632855\n",
            "  (0, 6053)\t0.08800786533296437\n",
            "  (0, 3950)\t0.10688874339958224\n",
            "  (0, 6521)\t0.13136982099294642\n",
            "  (0, 2264)\t0.09869449783351042\n",
            "  (0, 6558)\t0.10047814048665644\n",
            "  (0, 3907)\t0.13136982099294642\n",
            "  (0, 4336)\t0.10454092790024613\n",
            "  :\t:\n",
            "  (0, 3530)\t0.13136982099294642\n",
            "  (0, 2907)\t0.11592398073980142\n",
            "  (0, 2840)\t0.08909508764710115\n",
            "  (0, 4015)\t0.049168169800592\n",
            "  (0, 5066)\t0.11998676815339113\n",
            "  (0, 3513)\t0.11592398073980142\n",
            "  (0, 1989)\t0.07339578929379985\n",
            "  (0, 5064)\t0.08800786533296437\n",
            "  (0, 6434)\t0.10047814048665644\n",
            "  (0, 4001)\t0.1404050583331656\n",
            "  (0, 6110)\t0.12495921808002063\n",
            "  (0, 2885)\t0.10951337782687563\n",
            "  (0, 3382)\t0.1404050583331656\n",
            "  (0, 6131)\t0.12495921808002063\n",
            "  (0, 2298)\t0.1404050583331656\n",
            "  (0, 2428)\t0.11248894292632855\n",
            "  (0, 4051)\t0.1404050583331656\n",
            "  (0, 623)\t0.10951337782687563\n",
            "  (0, 803)\t0.2808101166663312\n",
            "  (0, 3869)\t0.11592398073980142\n",
            "  (0, 537)\t0.13136982099294642\n",
            "  (0, 2064)\t0.09023808880672159\n",
            "  (0, 5271)\t0.07727076024654675\n",
            "  (0, 5435)\t0.11592398073980142\n",
            "  (0, 2314)\t0.10951337782687563\n"
          ]
        }
      ],
      "source": [
        "print(X_train_tfidf[0])"
      ]
    },
    {
      "cell_type": "code",
      "execution_count": 100,
      "metadata": {
        "id": "2pZ-bO5vR1Um",
        "colab": {
          "base_uri": "https://localhost:8080/"
        },
        "outputId": "0bc8899d-6efc-4104-86c0-1d6832dd4b13"
      },
      "outputs": [
        {
          "output_type": "stream",
          "name": "stdout",
          "text": [
            "Dictionary<6969 unique tokens: ['$', ',', '.', '3m', 'A']...>\n"
          ]
        }
      ],
      "source": [
        "import gensim\n",
        "\n",
        "D = gensim.corpora.Dictionary(clear_X_train)\n",
        "print(D)"
      ]
    },
    {
      "cell_type": "code",
      "execution_count": 101,
      "metadata": {
        "id": "fNCVgmM3R_-9",
        "colab": {
          "base_uri": "https://localhost:8080/"
        },
        "outputId": "3e91c1d6-6107-4969-eaa9-f90252fdd712"
      },
      "outputs": [
        {
          "output_type": "stream",
          "name": "stdout",
          "text": [
            "torch.Size([400, 85, 6972])\n",
            "torch.Size([100, 81, 6972])\n"
          ]
        }
      ],
      "source": [
        "train_indices = [[D.token2id[t] for t in line] for line in clear_X_train]\n",
        "test_indices = [[D.token2id[t] if t in D else len(D) for t in line] for line in clear_X_test]\n",
        "\n",
        "import torch\n",
        "import torch.nn as nn\n",
        "from torch.nn.utils.rnn import pad_sequence\n",
        "\n",
        "train_tensor = pad_sequence([torch.tensor(line) for line in train_indices],\n",
        "                            batch_first=True,\n",
        "                            padding_value=len(D)+2)\n",
        "test_tensor = pad_sequence([torch.tensor(line) for line in test_indices],\n",
        "                           batch_first=True,\n",
        "                           padding_value=len(D)+2)\n",
        "\n",
        "X_train_seq = nn.functional.one_hot(train_tensor)\n",
        "X_test_seq = nn.functional.one_hot(test_tensor)\n",
        "\n",
        "print(X_train_seq.shape)\n",
        "print(X_test_seq.shape)"
      ]
    },
    {
      "cell_type": "markdown",
      "metadata": {
        "id": "WyIzCmQ7PqLA"
      },
      "source": [
        "# Baseline Models with sklearn"
      ]
    },
    {
      "cell_type": "code",
      "execution_count": 102,
      "metadata": {
        "id": "fDd-0gDOPsnf",
        "colab": {
          "base_uri": "https://localhost:8080/",
          "height": 80
        },
        "outputId": "36e1e92a-8bd6-49d6-af70-5b2057f0525d"
      },
      "outputs": [
        {
          "output_type": "execute_result",
          "data": {
            "text/plain": [
              "RidgeClassifier()"
            ],
            "text/html": [
              "<style>#sk-container-id-7 {\n",
              "  /* Definition of color scheme common for light and dark mode */\n",
              "  --sklearn-color-text: black;\n",
              "  --sklearn-color-line: gray;\n",
              "  /* Definition of color scheme for unfitted estimators */\n",
              "  --sklearn-color-unfitted-level-0: #fff5e6;\n",
              "  --sklearn-color-unfitted-level-1: #f6e4d2;\n",
              "  --sklearn-color-unfitted-level-2: #ffe0b3;\n",
              "  --sklearn-color-unfitted-level-3: chocolate;\n",
              "  /* Definition of color scheme for fitted estimators */\n",
              "  --sklearn-color-fitted-level-0: #f0f8ff;\n",
              "  --sklearn-color-fitted-level-1: #d4ebff;\n",
              "  --sklearn-color-fitted-level-2: #b3dbfd;\n",
              "  --sklearn-color-fitted-level-3: cornflowerblue;\n",
              "\n",
              "  /* Specific color for light theme */\n",
              "  --sklearn-color-text-on-default-background: var(--sg-text-color, var(--theme-code-foreground, var(--jp-content-font-color1, black)));\n",
              "  --sklearn-color-background: var(--sg-background-color, var(--theme-background, var(--jp-layout-color0, white)));\n",
              "  --sklearn-color-border-box: var(--sg-text-color, var(--theme-code-foreground, var(--jp-content-font-color1, black)));\n",
              "  --sklearn-color-icon: #696969;\n",
              "\n",
              "  @media (prefers-color-scheme: dark) {\n",
              "    /* Redefinition of color scheme for dark theme */\n",
              "    --sklearn-color-text-on-default-background: var(--sg-text-color, var(--theme-code-foreground, var(--jp-content-font-color1, white)));\n",
              "    --sklearn-color-background: var(--sg-background-color, var(--theme-background, var(--jp-layout-color0, #111)));\n",
              "    --sklearn-color-border-box: var(--sg-text-color, var(--theme-code-foreground, var(--jp-content-font-color1, white)));\n",
              "    --sklearn-color-icon: #878787;\n",
              "  }\n",
              "}\n",
              "\n",
              "#sk-container-id-7 {\n",
              "  color: var(--sklearn-color-text);\n",
              "}\n",
              "\n",
              "#sk-container-id-7 pre {\n",
              "  padding: 0;\n",
              "}\n",
              "\n",
              "#sk-container-id-7 input.sk-hidden--visually {\n",
              "  border: 0;\n",
              "  clip: rect(1px 1px 1px 1px);\n",
              "  clip: rect(1px, 1px, 1px, 1px);\n",
              "  height: 1px;\n",
              "  margin: -1px;\n",
              "  overflow: hidden;\n",
              "  padding: 0;\n",
              "  position: absolute;\n",
              "  width: 1px;\n",
              "}\n",
              "\n",
              "#sk-container-id-7 div.sk-dashed-wrapped {\n",
              "  border: 1px dashed var(--sklearn-color-line);\n",
              "  margin: 0 0.4em 0.5em 0.4em;\n",
              "  box-sizing: border-box;\n",
              "  padding-bottom: 0.4em;\n",
              "  background-color: var(--sklearn-color-background);\n",
              "}\n",
              "\n",
              "#sk-container-id-7 div.sk-container {\n",
              "  /* jupyter's `normalize.less` sets `[hidden] { display: none; }`\n",
              "     but bootstrap.min.css set `[hidden] { display: none !important; }`\n",
              "     so we also need the `!important` here to be able to override the\n",
              "     default hidden behavior on the sphinx rendered scikit-learn.org.\n",
              "     See: https://github.com/scikit-learn/scikit-learn/issues/21755 */\n",
              "  display: inline-block !important;\n",
              "  position: relative;\n",
              "}\n",
              "\n",
              "#sk-container-id-7 div.sk-text-repr-fallback {\n",
              "  display: none;\n",
              "}\n",
              "\n",
              "div.sk-parallel-item,\n",
              "div.sk-serial,\n",
              "div.sk-item {\n",
              "  /* draw centered vertical line to link estimators */\n",
              "  background-image: linear-gradient(var(--sklearn-color-text-on-default-background), var(--sklearn-color-text-on-default-background));\n",
              "  background-size: 2px 100%;\n",
              "  background-repeat: no-repeat;\n",
              "  background-position: center center;\n",
              "}\n",
              "\n",
              "/* Parallel-specific style estimator block */\n",
              "\n",
              "#sk-container-id-7 div.sk-parallel-item::after {\n",
              "  content: \"\";\n",
              "  width: 100%;\n",
              "  border-bottom: 2px solid var(--sklearn-color-text-on-default-background);\n",
              "  flex-grow: 1;\n",
              "}\n",
              "\n",
              "#sk-container-id-7 div.sk-parallel {\n",
              "  display: flex;\n",
              "  align-items: stretch;\n",
              "  justify-content: center;\n",
              "  background-color: var(--sklearn-color-background);\n",
              "  position: relative;\n",
              "}\n",
              "\n",
              "#sk-container-id-7 div.sk-parallel-item {\n",
              "  display: flex;\n",
              "  flex-direction: column;\n",
              "}\n",
              "\n",
              "#sk-container-id-7 div.sk-parallel-item:first-child::after {\n",
              "  align-self: flex-end;\n",
              "  width: 50%;\n",
              "}\n",
              "\n",
              "#sk-container-id-7 div.sk-parallel-item:last-child::after {\n",
              "  align-self: flex-start;\n",
              "  width: 50%;\n",
              "}\n",
              "\n",
              "#sk-container-id-7 div.sk-parallel-item:only-child::after {\n",
              "  width: 0;\n",
              "}\n",
              "\n",
              "/* Serial-specific style estimator block */\n",
              "\n",
              "#sk-container-id-7 div.sk-serial {\n",
              "  display: flex;\n",
              "  flex-direction: column;\n",
              "  align-items: center;\n",
              "  background-color: var(--sklearn-color-background);\n",
              "  padding-right: 1em;\n",
              "  padding-left: 1em;\n",
              "}\n",
              "\n",
              "\n",
              "/* Toggleable style: style used for estimator/Pipeline/ColumnTransformer box that is\n",
              "clickable and can be expanded/collapsed.\n",
              "- Pipeline and ColumnTransformer use this feature and define the default style\n",
              "- Estimators will overwrite some part of the style using the `sk-estimator` class\n",
              "*/\n",
              "\n",
              "/* Pipeline and ColumnTransformer style (default) */\n",
              "\n",
              "#sk-container-id-7 div.sk-toggleable {\n",
              "  /* Default theme specific background. It is overwritten whether we have a\n",
              "  specific estimator or a Pipeline/ColumnTransformer */\n",
              "  background-color: var(--sklearn-color-background);\n",
              "}\n",
              "\n",
              "/* Toggleable label */\n",
              "#sk-container-id-7 label.sk-toggleable__label {\n",
              "  cursor: pointer;\n",
              "  display: block;\n",
              "  width: 100%;\n",
              "  margin-bottom: 0;\n",
              "  padding: 0.5em;\n",
              "  box-sizing: border-box;\n",
              "  text-align: center;\n",
              "}\n",
              "\n",
              "#sk-container-id-7 label.sk-toggleable__label-arrow:before {\n",
              "  /* Arrow on the left of the label */\n",
              "  content: \"▸\";\n",
              "  float: left;\n",
              "  margin-right: 0.25em;\n",
              "  color: var(--sklearn-color-icon);\n",
              "}\n",
              "\n",
              "#sk-container-id-7 label.sk-toggleable__label-arrow:hover:before {\n",
              "  color: var(--sklearn-color-text);\n",
              "}\n",
              "\n",
              "/* Toggleable content - dropdown */\n",
              "\n",
              "#sk-container-id-7 div.sk-toggleable__content {\n",
              "  max-height: 0;\n",
              "  max-width: 0;\n",
              "  overflow: hidden;\n",
              "  text-align: left;\n",
              "  /* unfitted */\n",
              "  background-color: var(--sklearn-color-unfitted-level-0);\n",
              "}\n",
              "\n",
              "#sk-container-id-7 div.sk-toggleable__content.fitted {\n",
              "  /* fitted */\n",
              "  background-color: var(--sklearn-color-fitted-level-0);\n",
              "}\n",
              "\n",
              "#sk-container-id-7 div.sk-toggleable__content pre {\n",
              "  margin: 0.2em;\n",
              "  border-radius: 0.25em;\n",
              "  color: var(--sklearn-color-text);\n",
              "  /* unfitted */\n",
              "  background-color: var(--sklearn-color-unfitted-level-0);\n",
              "}\n",
              "\n",
              "#sk-container-id-7 div.sk-toggleable__content.fitted pre {\n",
              "  /* unfitted */\n",
              "  background-color: var(--sklearn-color-fitted-level-0);\n",
              "}\n",
              "\n",
              "#sk-container-id-7 input.sk-toggleable__control:checked~div.sk-toggleable__content {\n",
              "  /* Expand drop-down */\n",
              "  max-height: 200px;\n",
              "  max-width: 100%;\n",
              "  overflow: auto;\n",
              "}\n",
              "\n",
              "#sk-container-id-7 input.sk-toggleable__control:checked~label.sk-toggleable__label-arrow:before {\n",
              "  content: \"▾\";\n",
              "}\n",
              "\n",
              "/* Pipeline/ColumnTransformer-specific style */\n",
              "\n",
              "#sk-container-id-7 div.sk-label input.sk-toggleable__control:checked~label.sk-toggleable__label {\n",
              "  color: var(--sklearn-color-text);\n",
              "  background-color: var(--sklearn-color-unfitted-level-2);\n",
              "}\n",
              "\n",
              "#sk-container-id-7 div.sk-label.fitted input.sk-toggleable__control:checked~label.sk-toggleable__label {\n",
              "  background-color: var(--sklearn-color-fitted-level-2);\n",
              "}\n",
              "\n",
              "/* Estimator-specific style */\n",
              "\n",
              "/* Colorize estimator box */\n",
              "#sk-container-id-7 div.sk-estimator input.sk-toggleable__control:checked~label.sk-toggleable__label {\n",
              "  /* unfitted */\n",
              "  background-color: var(--sklearn-color-unfitted-level-2);\n",
              "}\n",
              "\n",
              "#sk-container-id-7 div.sk-estimator.fitted input.sk-toggleable__control:checked~label.sk-toggleable__label {\n",
              "  /* fitted */\n",
              "  background-color: var(--sklearn-color-fitted-level-2);\n",
              "}\n",
              "\n",
              "#sk-container-id-7 div.sk-label label.sk-toggleable__label,\n",
              "#sk-container-id-7 div.sk-label label {\n",
              "  /* The background is the default theme color */\n",
              "  color: var(--sklearn-color-text-on-default-background);\n",
              "}\n",
              "\n",
              "/* On hover, darken the color of the background */\n",
              "#sk-container-id-7 div.sk-label:hover label.sk-toggleable__label {\n",
              "  color: var(--sklearn-color-text);\n",
              "  background-color: var(--sklearn-color-unfitted-level-2);\n",
              "}\n",
              "\n",
              "/* Label box, darken color on hover, fitted */\n",
              "#sk-container-id-7 div.sk-label.fitted:hover label.sk-toggleable__label.fitted {\n",
              "  color: var(--sklearn-color-text);\n",
              "  background-color: var(--sklearn-color-fitted-level-2);\n",
              "}\n",
              "\n",
              "/* Estimator label */\n",
              "\n",
              "#sk-container-id-7 div.sk-label label {\n",
              "  font-family: monospace;\n",
              "  font-weight: bold;\n",
              "  display: inline-block;\n",
              "  line-height: 1.2em;\n",
              "}\n",
              "\n",
              "#sk-container-id-7 div.sk-label-container {\n",
              "  text-align: center;\n",
              "}\n",
              "\n",
              "/* Estimator-specific */\n",
              "#sk-container-id-7 div.sk-estimator {\n",
              "  font-family: monospace;\n",
              "  border: 1px dotted var(--sklearn-color-border-box);\n",
              "  border-radius: 0.25em;\n",
              "  box-sizing: border-box;\n",
              "  margin-bottom: 0.5em;\n",
              "  /* unfitted */\n",
              "  background-color: var(--sklearn-color-unfitted-level-0);\n",
              "}\n",
              "\n",
              "#sk-container-id-7 div.sk-estimator.fitted {\n",
              "  /* fitted */\n",
              "  background-color: var(--sklearn-color-fitted-level-0);\n",
              "}\n",
              "\n",
              "/* on hover */\n",
              "#sk-container-id-7 div.sk-estimator:hover {\n",
              "  /* unfitted */\n",
              "  background-color: var(--sklearn-color-unfitted-level-2);\n",
              "}\n",
              "\n",
              "#sk-container-id-7 div.sk-estimator.fitted:hover {\n",
              "  /* fitted */\n",
              "  background-color: var(--sklearn-color-fitted-level-2);\n",
              "}\n",
              "\n",
              "/* Specification for estimator info (e.g. \"i\" and \"?\") */\n",
              "\n",
              "/* Common style for \"i\" and \"?\" */\n",
              "\n",
              ".sk-estimator-doc-link,\n",
              "a:link.sk-estimator-doc-link,\n",
              "a:visited.sk-estimator-doc-link {\n",
              "  float: right;\n",
              "  font-size: smaller;\n",
              "  line-height: 1em;\n",
              "  font-family: monospace;\n",
              "  background-color: var(--sklearn-color-background);\n",
              "  border-radius: 1em;\n",
              "  height: 1em;\n",
              "  width: 1em;\n",
              "  text-decoration: none !important;\n",
              "  margin-left: 1ex;\n",
              "  /* unfitted */\n",
              "  border: var(--sklearn-color-unfitted-level-1) 1pt solid;\n",
              "  color: var(--sklearn-color-unfitted-level-1);\n",
              "}\n",
              "\n",
              ".sk-estimator-doc-link.fitted,\n",
              "a:link.sk-estimator-doc-link.fitted,\n",
              "a:visited.sk-estimator-doc-link.fitted {\n",
              "  /* fitted */\n",
              "  border: var(--sklearn-color-fitted-level-1) 1pt solid;\n",
              "  color: var(--sklearn-color-fitted-level-1);\n",
              "}\n",
              "\n",
              "/* On hover */\n",
              "div.sk-estimator:hover .sk-estimator-doc-link:hover,\n",
              ".sk-estimator-doc-link:hover,\n",
              "div.sk-label-container:hover .sk-estimator-doc-link:hover,\n",
              ".sk-estimator-doc-link:hover {\n",
              "  /* unfitted */\n",
              "  background-color: var(--sklearn-color-unfitted-level-3);\n",
              "  color: var(--sklearn-color-background);\n",
              "  text-decoration: none;\n",
              "}\n",
              "\n",
              "div.sk-estimator.fitted:hover .sk-estimator-doc-link.fitted:hover,\n",
              ".sk-estimator-doc-link.fitted:hover,\n",
              "div.sk-label-container:hover .sk-estimator-doc-link.fitted:hover,\n",
              ".sk-estimator-doc-link.fitted:hover {\n",
              "  /* fitted */\n",
              "  background-color: var(--sklearn-color-fitted-level-3);\n",
              "  color: var(--sklearn-color-background);\n",
              "  text-decoration: none;\n",
              "}\n",
              "\n",
              "/* Span, style for the box shown on hovering the info icon */\n",
              ".sk-estimator-doc-link span {\n",
              "  display: none;\n",
              "  z-index: 9999;\n",
              "  position: relative;\n",
              "  font-weight: normal;\n",
              "  right: .2ex;\n",
              "  padding: .5ex;\n",
              "  margin: .5ex;\n",
              "  width: min-content;\n",
              "  min-width: 20ex;\n",
              "  max-width: 50ex;\n",
              "  color: var(--sklearn-color-text);\n",
              "  box-shadow: 2pt 2pt 4pt #999;\n",
              "  /* unfitted */\n",
              "  background: var(--sklearn-color-unfitted-level-0);\n",
              "  border: .5pt solid var(--sklearn-color-unfitted-level-3);\n",
              "}\n",
              "\n",
              ".sk-estimator-doc-link.fitted span {\n",
              "  /* fitted */\n",
              "  background: var(--sklearn-color-fitted-level-0);\n",
              "  border: var(--sklearn-color-fitted-level-3);\n",
              "}\n",
              "\n",
              ".sk-estimator-doc-link:hover span {\n",
              "  display: block;\n",
              "}\n",
              "\n",
              "/* \"?\"-specific style due to the `<a>` HTML tag */\n",
              "\n",
              "#sk-container-id-7 a.estimator_doc_link {\n",
              "  float: right;\n",
              "  font-size: 1rem;\n",
              "  line-height: 1em;\n",
              "  font-family: monospace;\n",
              "  background-color: var(--sklearn-color-background);\n",
              "  border-radius: 1rem;\n",
              "  height: 1rem;\n",
              "  width: 1rem;\n",
              "  text-decoration: none;\n",
              "  /* unfitted */\n",
              "  color: var(--sklearn-color-unfitted-level-1);\n",
              "  border: var(--sklearn-color-unfitted-level-1) 1pt solid;\n",
              "}\n",
              "\n",
              "#sk-container-id-7 a.estimator_doc_link.fitted {\n",
              "  /* fitted */\n",
              "  border: var(--sklearn-color-fitted-level-1) 1pt solid;\n",
              "  color: var(--sklearn-color-fitted-level-1);\n",
              "}\n",
              "\n",
              "/* On hover */\n",
              "#sk-container-id-7 a.estimator_doc_link:hover {\n",
              "  /* unfitted */\n",
              "  background-color: var(--sklearn-color-unfitted-level-3);\n",
              "  color: var(--sklearn-color-background);\n",
              "  text-decoration: none;\n",
              "}\n",
              "\n",
              "#sk-container-id-7 a.estimator_doc_link.fitted:hover {\n",
              "  /* fitted */\n",
              "  background-color: var(--sklearn-color-fitted-level-3);\n",
              "}\n",
              "</style><div id=\"sk-container-id-7\" class=\"sk-top-container\"><div class=\"sk-text-repr-fallback\"><pre>RidgeClassifier()</pre><b>In a Jupyter environment, please rerun this cell to show the HTML representation or trust the notebook. <br />On GitHub, the HTML representation is unable to render, please try loading this page with nbviewer.org.</b></div><div class=\"sk-container\" hidden><div class=\"sk-item\"><div class=\"sk-estimator fitted sk-toggleable\"><input class=\"sk-toggleable__control sk-hidden--visually\" id=\"sk-estimator-id-7\" type=\"checkbox\" checked><label for=\"sk-estimator-id-7\" class=\"sk-toggleable__label fitted sk-toggleable__label-arrow fitted\">&nbsp;&nbsp;RidgeClassifier<a class=\"sk-estimator-doc-link fitted\" rel=\"noreferrer\" target=\"_blank\" href=\"https://scikit-learn.org/1.5/modules/generated/sklearn.linear_model.RidgeClassifier.html\">?<span>Documentation for RidgeClassifier</span></a><span class=\"sk-estimator-doc-link fitted\">i<span>Fitted</span></span></label><div class=\"sk-toggleable__content fitted\"><pre>RidgeClassifier()</pre></div> </div></div></div></div>"
            ]
          },
          "metadata": {},
          "execution_count": 102
        }
      ],
      "source": [
        "from sklearn.linear_model import RidgeClassifier\n",
        "from sklearn.dummy import DummyClassifier\n",
        "from sklearn.metrics import accuracy_score, f1_score, precision_score, recall_score\n",
        "\n",
        "ridge_classifier = RidgeClassifier()\n",
        "ridge_classifier.fit(X_train_tfidf, y_train)"
      ]
    },
    {
      "cell_type": "code",
      "execution_count": 103,
      "metadata": {
        "id": "IslpT0oMPycF"
      },
      "outputs": [],
      "source": [
        "ridge_classifier_prediction = ridge_classifier.predict(X_test_tfidf)"
      ]
    },
    {
      "cell_type": "code",
      "execution_count": 104,
      "metadata": {
        "id": "pxd9sFQiP8j3",
        "colab": {
          "base_uri": "https://localhost:8080/"
        },
        "outputId": "5a9fe7df-21f8-4c72-d46c-d4a4b105da3a"
      },
      "outputs": [
        {
          "output_type": "stream",
          "name": "stdout",
          "text": [
            "Ridge Classifier Accuracy: 0.59\n",
            "Ridge Classifier F1 Score: 0.5905780135357601\n"
          ]
        }
      ],
      "source": [
        "ridge_classifier_accuracy = accuracy_score(y_test, ridge_classifier_prediction)\n",
        "ridge_classifier_f1 = f1_score(y_test, ridge_classifier_prediction, average='weighted')\n",
        "\n",
        "print(f\"Ridge Classifier Accuracy: {ridge_classifier_accuracy}\")\n",
        "print(f\"Ridge Classifier F1 Score: {ridge_classifier_f1}\")"
      ]
    },
    {
      "cell_type": "code",
      "execution_count": 105,
      "metadata": {
        "id": "uFDRodzSQKeK",
        "colab": {
          "base_uri": "https://localhost:8080/",
          "height": 80
        },
        "outputId": "da312bdb-ac9f-4f74-80b6-b075a4675c4e"
      },
      "outputs": [
        {
          "output_type": "execute_result",
          "data": {
            "text/plain": [
              "DummyClassifier(strategy='most_frequent')"
            ],
            "text/html": [
              "<style>#sk-container-id-8 {\n",
              "  /* Definition of color scheme common for light and dark mode */\n",
              "  --sklearn-color-text: black;\n",
              "  --sklearn-color-line: gray;\n",
              "  /* Definition of color scheme for unfitted estimators */\n",
              "  --sklearn-color-unfitted-level-0: #fff5e6;\n",
              "  --sklearn-color-unfitted-level-1: #f6e4d2;\n",
              "  --sklearn-color-unfitted-level-2: #ffe0b3;\n",
              "  --sklearn-color-unfitted-level-3: chocolate;\n",
              "  /* Definition of color scheme for fitted estimators */\n",
              "  --sklearn-color-fitted-level-0: #f0f8ff;\n",
              "  --sklearn-color-fitted-level-1: #d4ebff;\n",
              "  --sklearn-color-fitted-level-2: #b3dbfd;\n",
              "  --sklearn-color-fitted-level-3: cornflowerblue;\n",
              "\n",
              "  /* Specific color for light theme */\n",
              "  --sklearn-color-text-on-default-background: var(--sg-text-color, var(--theme-code-foreground, var(--jp-content-font-color1, black)));\n",
              "  --sklearn-color-background: var(--sg-background-color, var(--theme-background, var(--jp-layout-color0, white)));\n",
              "  --sklearn-color-border-box: var(--sg-text-color, var(--theme-code-foreground, var(--jp-content-font-color1, black)));\n",
              "  --sklearn-color-icon: #696969;\n",
              "\n",
              "  @media (prefers-color-scheme: dark) {\n",
              "    /* Redefinition of color scheme for dark theme */\n",
              "    --sklearn-color-text-on-default-background: var(--sg-text-color, var(--theme-code-foreground, var(--jp-content-font-color1, white)));\n",
              "    --sklearn-color-background: var(--sg-background-color, var(--theme-background, var(--jp-layout-color0, #111)));\n",
              "    --sklearn-color-border-box: var(--sg-text-color, var(--theme-code-foreground, var(--jp-content-font-color1, white)));\n",
              "    --sklearn-color-icon: #878787;\n",
              "  }\n",
              "}\n",
              "\n",
              "#sk-container-id-8 {\n",
              "  color: var(--sklearn-color-text);\n",
              "}\n",
              "\n",
              "#sk-container-id-8 pre {\n",
              "  padding: 0;\n",
              "}\n",
              "\n",
              "#sk-container-id-8 input.sk-hidden--visually {\n",
              "  border: 0;\n",
              "  clip: rect(1px 1px 1px 1px);\n",
              "  clip: rect(1px, 1px, 1px, 1px);\n",
              "  height: 1px;\n",
              "  margin: -1px;\n",
              "  overflow: hidden;\n",
              "  padding: 0;\n",
              "  position: absolute;\n",
              "  width: 1px;\n",
              "}\n",
              "\n",
              "#sk-container-id-8 div.sk-dashed-wrapped {\n",
              "  border: 1px dashed var(--sklearn-color-line);\n",
              "  margin: 0 0.4em 0.5em 0.4em;\n",
              "  box-sizing: border-box;\n",
              "  padding-bottom: 0.4em;\n",
              "  background-color: var(--sklearn-color-background);\n",
              "}\n",
              "\n",
              "#sk-container-id-8 div.sk-container {\n",
              "  /* jupyter's `normalize.less` sets `[hidden] { display: none; }`\n",
              "     but bootstrap.min.css set `[hidden] { display: none !important; }`\n",
              "     so we also need the `!important` here to be able to override the\n",
              "     default hidden behavior on the sphinx rendered scikit-learn.org.\n",
              "     See: https://github.com/scikit-learn/scikit-learn/issues/21755 */\n",
              "  display: inline-block !important;\n",
              "  position: relative;\n",
              "}\n",
              "\n",
              "#sk-container-id-8 div.sk-text-repr-fallback {\n",
              "  display: none;\n",
              "}\n",
              "\n",
              "div.sk-parallel-item,\n",
              "div.sk-serial,\n",
              "div.sk-item {\n",
              "  /* draw centered vertical line to link estimators */\n",
              "  background-image: linear-gradient(var(--sklearn-color-text-on-default-background), var(--sklearn-color-text-on-default-background));\n",
              "  background-size: 2px 100%;\n",
              "  background-repeat: no-repeat;\n",
              "  background-position: center center;\n",
              "}\n",
              "\n",
              "/* Parallel-specific style estimator block */\n",
              "\n",
              "#sk-container-id-8 div.sk-parallel-item::after {\n",
              "  content: \"\";\n",
              "  width: 100%;\n",
              "  border-bottom: 2px solid var(--sklearn-color-text-on-default-background);\n",
              "  flex-grow: 1;\n",
              "}\n",
              "\n",
              "#sk-container-id-8 div.sk-parallel {\n",
              "  display: flex;\n",
              "  align-items: stretch;\n",
              "  justify-content: center;\n",
              "  background-color: var(--sklearn-color-background);\n",
              "  position: relative;\n",
              "}\n",
              "\n",
              "#sk-container-id-8 div.sk-parallel-item {\n",
              "  display: flex;\n",
              "  flex-direction: column;\n",
              "}\n",
              "\n",
              "#sk-container-id-8 div.sk-parallel-item:first-child::after {\n",
              "  align-self: flex-end;\n",
              "  width: 50%;\n",
              "}\n",
              "\n",
              "#sk-container-id-8 div.sk-parallel-item:last-child::after {\n",
              "  align-self: flex-start;\n",
              "  width: 50%;\n",
              "}\n",
              "\n",
              "#sk-container-id-8 div.sk-parallel-item:only-child::after {\n",
              "  width: 0;\n",
              "}\n",
              "\n",
              "/* Serial-specific style estimator block */\n",
              "\n",
              "#sk-container-id-8 div.sk-serial {\n",
              "  display: flex;\n",
              "  flex-direction: column;\n",
              "  align-items: center;\n",
              "  background-color: var(--sklearn-color-background);\n",
              "  padding-right: 1em;\n",
              "  padding-left: 1em;\n",
              "}\n",
              "\n",
              "\n",
              "/* Toggleable style: style used for estimator/Pipeline/ColumnTransformer box that is\n",
              "clickable and can be expanded/collapsed.\n",
              "- Pipeline and ColumnTransformer use this feature and define the default style\n",
              "- Estimators will overwrite some part of the style using the `sk-estimator` class\n",
              "*/\n",
              "\n",
              "/* Pipeline and ColumnTransformer style (default) */\n",
              "\n",
              "#sk-container-id-8 div.sk-toggleable {\n",
              "  /* Default theme specific background. It is overwritten whether we have a\n",
              "  specific estimator or a Pipeline/ColumnTransformer */\n",
              "  background-color: var(--sklearn-color-background);\n",
              "}\n",
              "\n",
              "/* Toggleable label */\n",
              "#sk-container-id-8 label.sk-toggleable__label {\n",
              "  cursor: pointer;\n",
              "  display: block;\n",
              "  width: 100%;\n",
              "  margin-bottom: 0;\n",
              "  padding: 0.5em;\n",
              "  box-sizing: border-box;\n",
              "  text-align: center;\n",
              "}\n",
              "\n",
              "#sk-container-id-8 label.sk-toggleable__label-arrow:before {\n",
              "  /* Arrow on the left of the label */\n",
              "  content: \"▸\";\n",
              "  float: left;\n",
              "  margin-right: 0.25em;\n",
              "  color: var(--sklearn-color-icon);\n",
              "}\n",
              "\n",
              "#sk-container-id-8 label.sk-toggleable__label-arrow:hover:before {\n",
              "  color: var(--sklearn-color-text);\n",
              "}\n",
              "\n",
              "/* Toggleable content - dropdown */\n",
              "\n",
              "#sk-container-id-8 div.sk-toggleable__content {\n",
              "  max-height: 0;\n",
              "  max-width: 0;\n",
              "  overflow: hidden;\n",
              "  text-align: left;\n",
              "  /* unfitted */\n",
              "  background-color: var(--sklearn-color-unfitted-level-0);\n",
              "}\n",
              "\n",
              "#sk-container-id-8 div.sk-toggleable__content.fitted {\n",
              "  /* fitted */\n",
              "  background-color: var(--sklearn-color-fitted-level-0);\n",
              "}\n",
              "\n",
              "#sk-container-id-8 div.sk-toggleable__content pre {\n",
              "  margin: 0.2em;\n",
              "  border-radius: 0.25em;\n",
              "  color: var(--sklearn-color-text);\n",
              "  /* unfitted */\n",
              "  background-color: var(--sklearn-color-unfitted-level-0);\n",
              "}\n",
              "\n",
              "#sk-container-id-8 div.sk-toggleable__content.fitted pre {\n",
              "  /* unfitted */\n",
              "  background-color: var(--sklearn-color-fitted-level-0);\n",
              "}\n",
              "\n",
              "#sk-container-id-8 input.sk-toggleable__control:checked~div.sk-toggleable__content {\n",
              "  /* Expand drop-down */\n",
              "  max-height: 200px;\n",
              "  max-width: 100%;\n",
              "  overflow: auto;\n",
              "}\n",
              "\n",
              "#sk-container-id-8 input.sk-toggleable__control:checked~label.sk-toggleable__label-arrow:before {\n",
              "  content: \"▾\";\n",
              "}\n",
              "\n",
              "/* Pipeline/ColumnTransformer-specific style */\n",
              "\n",
              "#sk-container-id-8 div.sk-label input.sk-toggleable__control:checked~label.sk-toggleable__label {\n",
              "  color: var(--sklearn-color-text);\n",
              "  background-color: var(--sklearn-color-unfitted-level-2);\n",
              "}\n",
              "\n",
              "#sk-container-id-8 div.sk-label.fitted input.sk-toggleable__control:checked~label.sk-toggleable__label {\n",
              "  background-color: var(--sklearn-color-fitted-level-2);\n",
              "}\n",
              "\n",
              "/* Estimator-specific style */\n",
              "\n",
              "/* Colorize estimator box */\n",
              "#sk-container-id-8 div.sk-estimator input.sk-toggleable__control:checked~label.sk-toggleable__label {\n",
              "  /* unfitted */\n",
              "  background-color: var(--sklearn-color-unfitted-level-2);\n",
              "}\n",
              "\n",
              "#sk-container-id-8 div.sk-estimator.fitted input.sk-toggleable__control:checked~label.sk-toggleable__label {\n",
              "  /* fitted */\n",
              "  background-color: var(--sklearn-color-fitted-level-2);\n",
              "}\n",
              "\n",
              "#sk-container-id-8 div.sk-label label.sk-toggleable__label,\n",
              "#sk-container-id-8 div.sk-label label {\n",
              "  /* The background is the default theme color */\n",
              "  color: var(--sklearn-color-text-on-default-background);\n",
              "}\n",
              "\n",
              "/* On hover, darken the color of the background */\n",
              "#sk-container-id-8 div.sk-label:hover label.sk-toggleable__label {\n",
              "  color: var(--sklearn-color-text);\n",
              "  background-color: var(--sklearn-color-unfitted-level-2);\n",
              "}\n",
              "\n",
              "/* Label box, darken color on hover, fitted */\n",
              "#sk-container-id-8 div.sk-label.fitted:hover label.sk-toggleable__label.fitted {\n",
              "  color: var(--sklearn-color-text);\n",
              "  background-color: var(--sklearn-color-fitted-level-2);\n",
              "}\n",
              "\n",
              "/* Estimator label */\n",
              "\n",
              "#sk-container-id-8 div.sk-label label {\n",
              "  font-family: monospace;\n",
              "  font-weight: bold;\n",
              "  display: inline-block;\n",
              "  line-height: 1.2em;\n",
              "}\n",
              "\n",
              "#sk-container-id-8 div.sk-label-container {\n",
              "  text-align: center;\n",
              "}\n",
              "\n",
              "/* Estimator-specific */\n",
              "#sk-container-id-8 div.sk-estimator {\n",
              "  font-family: monospace;\n",
              "  border: 1px dotted var(--sklearn-color-border-box);\n",
              "  border-radius: 0.25em;\n",
              "  box-sizing: border-box;\n",
              "  margin-bottom: 0.5em;\n",
              "  /* unfitted */\n",
              "  background-color: var(--sklearn-color-unfitted-level-0);\n",
              "}\n",
              "\n",
              "#sk-container-id-8 div.sk-estimator.fitted {\n",
              "  /* fitted */\n",
              "  background-color: var(--sklearn-color-fitted-level-0);\n",
              "}\n",
              "\n",
              "/* on hover */\n",
              "#sk-container-id-8 div.sk-estimator:hover {\n",
              "  /* unfitted */\n",
              "  background-color: var(--sklearn-color-unfitted-level-2);\n",
              "}\n",
              "\n",
              "#sk-container-id-8 div.sk-estimator.fitted:hover {\n",
              "  /* fitted */\n",
              "  background-color: var(--sklearn-color-fitted-level-2);\n",
              "}\n",
              "\n",
              "/* Specification for estimator info (e.g. \"i\" and \"?\") */\n",
              "\n",
              "/* Common style for \"i\" and \"?\" */\n",
              "\n",
              ".sk-estimator-doc-link,\n",
              "a:link.sk-estimator-doc-link,\n",
              "a:visited.sk-estimator-doc-link {\n",
              "  float: right;\n",
              "  font-size: smaller;\n",
              "  line-height: 1em;\n",
              "  font-family: monospace;\n",
              "  background-color: var(--sklearn-color-background);\n",
              "  border-radius: 1em;\n",
              "  height: 1em;\n",
              "  width: 1em;\n",
              "  text-decoration: none !important;\n",
              "  margin-left: 1ex;\n",
              "  /* unfitted */\n",
              "  border: var(--sklearn-color-unfitted-level-1) 1pt solid;\n",
              "  color: var(--sklearn-color-unfitted-level-1);\n",
              "}\n",
              "\n",
              ".sk-estimator-doc-link.fitted,\n",
              "a:link.sk-estimator-doc-link.fitted,\n",
              "a:visited.sk-estimator-doc-link.fitted {\n",
              "  /* fitted */\n",
              "  border: var(--sklearn-color-fitted-level-1) 1pt solid;\n",
              "  color: var(--sklearn-color-fitted-level-1);\n",
              "}\n",
              "\n",
              "/* On hover */\n",
              "div.sk-estimator:hover .sk-estimator-doc-link:hover,\n",
              ".sk-estimator-doc-link:hover,\n",
              "div.sk-label-container:hover .sk-estimator-doc-link:hover,\n",
              ".sk-estimator-doc-link:hover {\n",
              "  /* unfitted */\n",
              "  background-color: var(--sklearn-color-unfitted-level-3);\n",
              "  color: var(--sklearn-color-background);\n",
              "  text-decoration: none;\n",
              "}\n",
              "\n",
              "div.sk-estimator.fitted:hover .sk-estimator-doc-link.fitted:hover,\n",
              ".sk-estimator-doc-link.fitted:hover,\n",
              "div.sk-label-container:hover .sk-estimator-doc-link.fitted:hover,\n",
              ".sk-estimator-doc-link.fitted:hover {\n",
              "  /* fitted */\n",
              "  background-color: var(--sklearn-color-fitted-level-3);\n",
              "  color: var(--sklearn-color-background);\n",
              "  text-decoration: none;\n",
              "}\n",
              "\n",
              "/* Span, style for the box shown on hovering the info icon */\n",
              ".sk-estimator-doc-link span {\n",
              "  display: none;\n",
              "  z-index: 9999;\n",
              "  position: relative;\n",
              "  font-weight: normal;\n",
              "  right: .2ex;\n",
              "  padding: .5ex;\n",
              "  margin: .5ex;\n",
              "  width: min-content;\n",
              "  min-width: 20ex;\n",
              "  max-width: 50ex;\n",
              "  color: var(--sklearn-color-text);\n",
              "  box-shadow: 2pt 2pt 4pt #999;\n",
              "  /* unfitted */\n",
              "  background: var(--sklearn-color-unfitted-level-0);\n",
              "  border: .5pt solid var(--sklearn-color-unfitted-level-3);\n",
              "}\n",
              "\n",
              ".sk-estimator-doc-link.fitted span {\n",
              "  /* fitted */\n",
              "  background: var(--sklearn-color-fitted-level-0);\n",
              "  border: var(--sklearn-color-fitted-level-3);\n",
              "}\n",
              "\n",
              ".sk-estimator-doc-link:hover span {\n",
              "  display: block;\n",
              "}\n",
              "\n",
              "/* \"?\"-specific style due to the `<a>` HTML tag */\n",
              "\n",
              "#sk-container-id-8 a.estimator_doc_link {\n",
              "  float: right;\n",
              "  font-size: 1rem;\n",
              "  line-height: 1em;\n",
              "  font-family: monospace;\n",
              "  background-color: var(--sklearn-color-background);\n",
              "  border-radius: 1rem;\n",
              "  height: 1rem;\n",
              "  width: 1rem;\n",
              "  text-decoration: none;\n",
              "  /* unfitted */\n",
              "  color: var(--sklearn-color-unfitted-level-1);\n",
              "  border: var(--sklearn-color-unfitted-level-1) 1pt solid;\n",
              "}\n",
              "\n",
              "#sk-container-id-8 a.estimator_doc_link.fitted {\n",
              "  /* fitted */\n",
              "  border: var(--sklearn-color-fitted-level-1) 1pt solid;\n",
              "  color: var(--sklearn-color-fitted-level-1);\n",
              "}\n",
              "\n",
              "/* On hover */\n",
              "#sk-container-id-8 a.estimator_doc_link:hover {\n",
              "  /* unfitted */\n",
              "  background-color: var(--sklearn-color-unfitted-level-3);\n",
              "  color: var(--sklearn-color-background);\n",
              "  text-decoration: none;\n",
              "}\n",
              "\n",
              "#sk-container-id-8 a.estimator_doc_link.fitted:hover {\n",
              "  /* fitted */\n",
              "  background-color: var(--sklearn-color-fitted-level-3);\n",
              "}\n",
              "</style><div id=\"sk-container-id-8\" class=\"sk-top-container\"><div class=\"sk-text-repr-fallback\"><pre>DummyClassifier(strategy=&#x27;most_frequent&#x27;)</pre><b>In a Jupyter environment, please rerun this cell to show the HTML representation or trust the notebook. <br />On GitHub, the HTML representation is unable to render, please try loading this page with nbviewer.org.</b></div><div class=\"sk-container\" hidden><div class=\"sk-item\"><div class=\"sk-estimator fitted sk-toggleable\"><input class=\"sk-toggleable__control sk-hidden--visually\" id=\"sk-estimator-id-8\" type=\"checkbox\" checked><label for=\"sk-estimator-id-8\" class=\"sk-toggleable__label fitted sk-toggleable__label-arrow fitted\">&nbsp;&nbsp;DummyClassifier<a class=\"sk-estimator-doc-link fitted\" rel=\"noreferrer\" target=\"_blank\" href=\"https://scikit-learn.org/1.5/modules/generated/sklearn.dummy.DummyClassifier.html\">?<span>Documentation for DummyClassifier</span></a><span class=\"sk-estimator-doc-link fitted\">i<span>Fitted</span></span></label><div class=\"sk-toggleable__content fitted\"><pre>DummyClassifier(strategy=&#x27;most_frequent&#x27;)</pre></div> </div></div></div></div>"
            ]
          },
          "metadata": {},
          "execution_count": 105
        }
      ],
      "source": [
        "dummy_classifer = DummyClassifier(strategy='most_frequent')\n",
        "dummy_classifer.fit(X_train_tfidf, y_train)"
      ]
    },
    {
      "cell_type": "code",
      "execution_count": 106,
      "metadata": {
        "id": "A_9suoSxQMop",
        "colab": {
          "base_uri": "https://localhost:8080/"
        },
        "outputId": "15552d59-08b8-4abd-d647-151947f836ee"
      },
      "outputs": [
        {
          "output_type": "stream",
          "name": "stdout",
          "text": [
            "Dummy Classifier Accuracy: 0.29\n",
            "Dummy Classifier F1 Score: 0.1303875968992248\n"
          ]
        }
      ],
      "source": [
        "dummy_classifer_prediction = dummy_classifer.predict(X_test_tfidf)\n",
        "\n",
        "dummy_classifer_accuracy = accuracy_score(y_test, dummy_classifer_prediction)\n",
        "dummy_classifer_f1 = f1_score(y_test, dummy_classifer_prediction, average='weighted')\n",
        "\n",
        "print(f\"Dummy Classifier Accuracy: {dummy_classifer_accuracy}\")\n",
        "print(f\"Dummy Classifier F1 Score: {dummy_classifer_f1}\")"
      ]
    },
    {
      "cell_type": "markdown",
      "metadata": {
        "id": "4fbxmoNjP9JD"
      },
      "source": [
        "# Torch RNN Models"
      ]
    },
    {
      "cell_type": "markdown",
      "metadata": {
        "id": "QKQZFX5Uv9d6"
      },
      "source": [
        "## Baseline RNN"
      ]
    },
    {
      "cell_type": "code",
      "execution_count": 107,
      "metadata": {
        "id": "EZv9Pu4UQCxi"
      },
      "outputs": [],
      "source": [
        "# # Simple tensor operations\n",
        "# import torch\n",
        "\n",
        "# # Putting data into a tensor\n",
        "# X_train_tensor = torch.tensor(X_train_tfidf.toarray()).float()\n",
        "# X_test_tensor = torch.tensor(X_test_tfidf.toarray()).float()"
      ]
    },
    {
      "cell_type": "code",
      "execution_count": 108,
      "metadata": {
        "id": "jINIurnKQX4q"
      },
      "outputs": [],
      "source": [
        "import torch.nn as nn\n",
        "\n",
        "class RNNNet(nn.Module):\n",
        "    def __init__(self, input_size, hidden_size=128, num_of_classes=3):  # Default hidden layer size is 128 nodes\n",
        "        super(RNNNet, self).__init__()\n",
        "        self.hidden_size = hidden_size\n",
        "        # Define the RNN layer\n",
        "        self.rnn_layer = nn.RNN(input_size,\n",
        "                                hidden_size,\n",
        "                                batch_first=True,\n",
        "                                nonlinearity='tanh')  # Use 'relu' or 'tanh'\n",
        "        # Define the output layer\n",
        "        self.output_layer = nn.Linear(hidden_size, num_of_classes)\n",
        "\n",
        "    def forward(self, x):\n",
        "        # Run the RNN layer and ignore the hidden state\n",
        "        output, hidden = self.rnn_layer(x)  # `hidden` contains the final hidden state\n",
        "        return self.output_layer(hidden[-1])  # Use the final hidden state\n"
      ]
    },
    {
      "cell_type": "code",
      "execution_count": 109,
      "metadata": {
        "id": "x7Uf_6sURjQ1"
      },
      "outputs": [],
      "source": [
        "lr = 0.01 # Learning rate\n",
        "epochs = 300 # Training epochs\n",
        "\n",
        "input_size = X_train_seq.shape[-1] # Extract the last dimension\n",
        "\n",
        "model = RNNNet(input_size).to(\"cuda:0\")\n",
        "\n",
        "loss_func = nn.CrossEntropyLoss()\n",
        "optimizer = torch.optim.Adam(model.parameters(), lr=lr)\n"
      ]
    },
    {
      "cell_type": "code",
      "execution_count": 110,
      "metadata": {
        "id": "_f6d3VmV0db8",
        "colab": {
          "base_uri": "https://localhost:8080/"
        },
        "outputId": "97df0639-de77-490f-c60d-1ca4d31cb3d5"
      },
      "outputs": [
        {
          "output_type": "stream",
          "name": "stdout",
          "text": [
            "{'left': 0, 'center': 1, 'right': 2}\n"
          ]
        }
      ],
      "source": [
        "import numpy as np\n",
        "# Define the custom mapping\n",
        "custom_mapping = {'left': 0, 'center': 1, 'right': 2}\n",
        "\n",
        "# Map the y_train and y_test using the custom mapping\n",
        "y_train_mapped = [custom_mapping[label] for label in y_train]\n",
        "y_test_mapped = [custom_mapping[label] for label in y_test]\n",
        "\n",
        "# Convert to numpy arrays if needed (optional for some models)\n",
        "y_train_encoded = np.array(y_train_mapped)\n",
        "y_test_encoded = np.array(y_test_mapped)\n",
        "\n",
        "# Print the custom mapping (optional)\n",
        "print(custom_mapping)  # {'left': 0, 'center': 1, 'right': 2}\n"
      ]
    },
    {
      "cell_type": "code",
      "execution_count": 111,
      "metadata": {
        "id": "OISGpkYcwQB-",
        "colab": {
          "base_uri": "https://localhost:8080/"
        },
        "outputId": "b32c1c02-2ae2-4afe-9806-3e85e6794c18"
      },
      "outputs": [
        {
          "output_type": "execute_result",
          "data": {
            "text/plain": [
              "RNNNet(\n",
              "  (rnn_layer): RNN(6972, 128, batch_first=True)\n",
              "  (output_layer): Linear(in_features=128, out_features=3, bias=True)\n",
              ")"
            ]
          },
          "metadata": {},
          "execution_count": 111
        }
      ],
      "source": [
        "model"
      ]
    },
    {
      "cell_type": "code",
      "execution_count": 112,
      "metadata": {
        "id": "dS_uwkjQ0P85",
        "colab": {
          "base_uri": "https://localhost:8080/"
        },
        "outputId": "c23d6018-c877-4253-b1b1-9998cfd0057e"
      },
      "outputs": [
        {
          "output_type": "stream",
          "name": "stdout",
          "text": [
            "Epoch: 0 loss: 1.105175495147705\n",
            "Epoch: 20 loss: 1.079297661781311\n",
            "Epoch: 40 loss: 1.1892726421356201\n",
            "Epoch: 60 loss: 1.1099772453308105\n",
            "Epoch: 80 loss: 1.0313698053359985\n",
            "Epoch: 100 loss: 1.0848900079727173\n",
            "Epoch: 120 loss: 1.0864367485046387\n",
            "Epoch: 140 loss: 1.08576500415802\n",
            "Epoch: 160 loss: 1.0856019258499146\n",
            "Epoch: 180 loss: 1.0855690240859985\n",
            "Epoch: 200 loss: 1.0855463743209839\n",
            "Epoch: 220 loss: 1.085516333580017\n",
            "Epoch: 240 loss: 1.0854741334915161\n",
            "Epoch: 260 loss: 1.0854158401489258\n",
            "Epoch: 280 loss: 1.0853368043899536\n"
          ]
        }
      ],
      "source": [
        "# Putting labels in tensors\n",
        "y_train_tensor = torch.LongTensor(y_train_encoded)\n",
        "y_test_tensor = torch.LongTensor(y_test_encoded)\n",
        "\n",
        "# Repeat the learning process for the number of epochs\n",
        "for e in range(epochs):\n",
        "    # Forward pass\n",
        "    predictions = model(X_train_seq.float().to(\"cuda:0\"))\n",
        "    # Calculate the loss -- the squeeze ensures the dimensions are consistent\n",
        "    loss = loss_func(torch.squeeze(predictions), y_train_tensor.to(\"cuda:0\"))\n",
        "\n",
        "    # Model clean gradient\n",
        "    optimizer.zero_grad()\n",
        "    # Model backward pass to get the gradient\n",
        "    loss.backward()\n",
        "    # Model updating weights\n",
        "    optimizer.step()\n",
        "\n",
        "    # Print the training process\n",
        "    if e % 20 == 0:\n",
        "        print(\"Epoch:\", e, \"loss:\", loss.item())"
      ]
    },
    {
      "cell_type": "code",
      "execution_count": 119,
      "metadata": {
        "id": "d-Em1pOk84uM",
        "colab": {
          "base_uri": "https://localhost:8080/"
        },
        "outputId": "8ea23ea4-e333-4d5d-fbc6-936d903efdcc"
      },
      "outputs": [
        {
          "output_type": "stream",
          "name": "stdout",
          "text": [
            "Test Accuracy: 0.29\n",
            "Test F1: 0.1303875968992248\n"
          ]
        }
      ],
      "source": [
        "from sklearn import metrics\n",
        "\n",
        "# Forward pass on test set\n",
        "y_pred = model(X_test_seq.float().to(\"cuda:0\"))\n",
        "\n",
        "# Convert model output to predicted class indices\n",
        "y_pred_classes = torch.argmax(y_pred, dim=1)\n",
        "\n",
        "# Convert ground truth to numpy\n",
        "y_test_numpy = y_test_tensor.cpu().numpy()\n",
        "\n",
        "# Calculate accuracy\n",
        "test_accuracy = metrics.accuracy_score(y_test_numpy, y_pred_classes.cpu().numpy())\n",
        "test_f1 = metrics.f1_score(y_test_numpy, y_pred_classes.cpu().numpy(), average='weighted')\n",
        "print(\"Test Accuracy:\", test_accuracy)\n",
        "print(\"Test F1:\", test_f1)\n",
        "\n"
      ]
    },
    {
      "cell_type": "markdown",
      "metadata": {
        "id": "F9rKuEomwDwf"
      },
      "source": [
        "## LSTM"
      ]
    },
    {
      "cell_type": "code",
      "execution_count": 127,
      "metadata": {
        "id": "8bgst1yJv79l",
        "colab": {
          "base_uri": "https://localhost:8080/"
        },
        "outputId": "0f0cc1e2-0b9c-4c8b-c07f-e93aef3d2202"
      },
      "outputs": [
        {
          "output_type": "stream",
          "name": "stdout",
          "text": [
            "torch.Size([64, 3])\n"
          ]
        }
      ],
      "source": [
        "class MultilayerLSTM(nn.Module):\n",
        "    def __init__(self, input_size, hidden_size, num_layers, num_classes):\n",
        "        super(MultilayerLSTM, self).__init__()\n",
        "        self.hidden_size = hidden_size\n",
        "        self.num_layers = num_layers\n",
        "\n",
        "        self.lstm = nn.LSTM(input_size, hidden_size, num_layers, batch_first=True)\n",
        "        self.fc = nn.Linear(hidden_size, num_classes)\n",
        "\n",
        "    def forward(self, x):\n",
        "        h0 = torch.zeros(self.num_layers, x.size(0), self.hidden_size).to(x.device)\n",
        "        c0 = torch.zeros(self.num_layers, x.size(0), self.hidden_size).to(x.device)\n",
        "\n",
        "        out, _ = self.lstm(x, (h0, c0))\n",
        "        out = self.fc(out[:, -1, :])  # Take the last hidden state\n",
        "        return out"
      ]
    },
    {
      "cell_type": "code",
      "execution_count": 131,
      "metadata": {
        "id": "ai9zXJcPwKQL"
      },
      "outputs": [],
      "source": [
        "lr = 0.01 # Learning rate\n",
        "epochs = 70 # Training epochs\n",
        "\n",
        "input_size = X_train_seq.shape[-1] # Extract the last dimension\n",
        "\n",
        "model = MultilayerLSTM(input_size, hidden_size, num_layers, num_classes)\n",
        "hidden_size = 512\n",
        "num_layers = 3\n",
        "num_classes = 3\n",
        "\n",
        "loss_func = nn.CrossEntropyLoss()\n",
        "optimizer = torch.optim.Adam(model.parameters(), lr=lr)"
      ]
    },
    {
      "cell_type": "code",
      "execution_count": 132,
      "metadata": {
        "id": "289RSelpwaqG",
        "colab": {
          "base_uri": "https://localhost:8080/"
        },
        "outputId": "47950d39-a2f5-42ca-e370-2c5f1b3a7143"
      },
      "outputs": [
        {
          "output_type": "execute_result",
          "data": {
            "text/plain": [
              "MultilayerLSTM(\n",
              "  (lstm): LSTM(6972, 512, num_layers=3, batch_first=True)\n",
              "  (fc): Linear(in_features=512, out_features=3, bias=True)\n",
              ")"
            ]
          },
          "metadata": {},
          "execution_count": 132
        }
      ],
      "source": [
        "model"
      ]
    },
    {
      "cell_type": "code",
      "execution_count": null,
      "metadata": {
        "id": "1sUvhMG5wVCE",
        "colab": {
          "base_uri": "https://localhost:8080/"
        },
        "outputId": "a4892b8e-3290-4395-fa17-13b4d72b48f3"
      },
      "outputs": [
        {
          "output_type": "stream",
          "name": "stdout",
          "text": [
            "Epoch: 0 loss: 1.0982728004455566\n",
            "Epoch: 20 loss: 1.0945885181427002\n"
          ]
        }
      ],
      "source": [
        "# Putting labels in tensors\n",
        "y_train_tensor = torch.LongTensor(y_train_encoded)\n",
        "y_test_tensor = torch.LongTensor(y_test_encoded)\n",
        "\n",
        "# Repeat the learning process for the number of epochs\n",
        "for e in range(epochs):\n",
        "    # Forward pass\n",
        "    predictions = model(X_train_seq.float())\n",
        "    # Calculate the loss -- the squeeze ensures the dimensions are consistent\n",
        "    loss = loss_func(torch.squeeze(predictions), y_train_tensor)\n",
        "\n",
        "    # Model clean gradient\n",
        "    optimizer.zero_grad()\n",
        "    # Model backward pass to get the gradient\n",
        "    loss.backward()\n",
        "    # Model updating weights\n",
        "    optimizer.step()\n",
        "\n",
        "    # Print the training process\n",
        "    if e % 20 == 0:\n",
        "        print(\"Epoch:\", e, \"loss:\", loss.item())"
      ]
    },
    {
      "cell_type": "code",
      "execution_count": 1,
      "metadata": {
        "id": "aCZNoxnXwWeN",
        "colab": {
          "base_uri": "https://localhost:8080/",
          "height": 211
        },
        "outputId": "dd24953d-7d0a-43bc-8086-c6ff7f2088c0"
      },
      "outputs": [
        {
          "output_type": "error",
          "ename": "NameError",
          "evalue": "name 'model' is not defined",
          "traceback": [
            "\u001b[0;31m---------------------------------------------------------------------------\u001b[0m",
            "\u001b[0;31mNameError\u001b[0m                                 Traceback (most recent call last)",
            "\u001b[0;32m<ipython-input-1-7f159075396b>\u001b[0m in \u001b[0;36m<cell line: 2>\u001b[0;34m()\u001b[0m\n\u001b[1;32m      1\u001b[0m \u001b[0;31m# Forward pass on test set\u001b[0m\u001b[0;34m\u001b[0m\u001b[0;34m\u001b[0m\u001b[0m\n\u001b[0;32m----> 2\u001b[0;31m \u001b[0my_pred\u001b[0m \u001b[0;34m=\u001b[0m \u001b[0mmodel\u001b[0m\u001b[0;34m(\u001b[0m\u001b[0mX_test_seq\u001b[0m\u001b[0;34m.\u001b[0m\u001b[0mfloat\u001b[0m\u001b[0;34m(\u001b[0m\u001b[0;34m)\u001b[0m\u001b[0;34m.\u001b[0m\u001b[0mto\u001b[0m\u001b[0;34m(\u001b[0m\u001b[0;34m\"cuda:0\"\u001b[0m\u001b[0;34m)\u001b[0m\u001b[0;34m)\u001b[0m\u001b[0;34m\u001b[0m\u001b[0;34m\u001b[0m\u001b[0m\n\u001b[0m\u001b[1;32m      3\u001b[0m \u001b[0;34m\u001b[0m\u001b[0m\n\u001b[1;32m      4\u001b[0m \u001b[0;31m# Convert model output to predicted class indices\u001b[0m\u001b[0;34m\u001b[0m\u001b[0;34m\u001b[0m\u001b[0m\n\u001b[1;32m      5\u001b[0m \u001b[0my_pred_classes\u001b[0m \u001b[0;34m=\u001b[0m \u001b[0mtorch\u001b[0m\u001b[0;34m.\u001b[0m\u001b[0margmax\u001b[0m\u001b[0;34m(\u001b[0m\u001b[0my_pred\u001b[0m\u001b[0;34m,\u001b[0m \u001b[0mdim\u001b[0m\u001b[0;34m=\u001b[0m\u001b[0;36m1\u001b[0m\u001b[0;34m)\u001b[0m\u001b[0;34m\u001b[0m\u001b[0;34m\u001b[0m\u001b[0m\n",
            "\u001b[0;31mNameError\u001b[0m: name 'model' is not defined"
          ]
        }
      ],
      "source": [
        "# Forward pass on test set\n",
        "y_pred = model(X_test_seq.float().to(\"cuda:0\"))\n",
        "\n",
        "# Convert model output to predicted class indices\n",
        "y_pred_classes = torch.argmax(y_pred, dim=1)\n",
        "\n",
        "# Convert ground truth to numpy\n",
        "y_test_numpy = y_test_tensor.cpu().numpy()\n",
        "\n",
        "# Calculate accuracy\n",
        "test_accuracy = metrics.accuracy_score(y_test_numpy, y_pred_classes.cpu().numpy())\n",
        "test_f1 = metrics.f1_score(y_test_numpy, y_pred_classes.cpu().numpy(), average='weighted')\n",
        "print(\"Test Accuracy:\", test_accuracy)\n",
        "print(\"Test F1:\", test_f1)"
      ]
    }
  ],
  "metadata": {
    "accelerator": "GPU",
    "colab": {
      "gpuType": "T4",
      "provenance": []
    },
    "kernelspec": {
      "display_name": "Python 3",
      "name": "python3"
    },
    "language_info": {
      "codemirror_mode": {
        "name": "ipython",
        "version": 3
      },
      "file_extension": ".py",
      "mimetype": "text/x-python",
      "name": "python",
      "nbconvert_exporter": "python",
      "pygments_lexer": "ipython3",
      "version": "3.11.5"
    }
  },
  "nbformat": 4,
  "nbformat_minor": 0
}