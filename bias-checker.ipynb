{
 "cells": [
  {
   "cell_type": "markdown",
   "metadata": {},
   "source": [
    "### Imports"
   ]
  },
  {
   "cell_type": "code",
   "execution_count": null,
   "metadata": {},
   "outputs": [],
   "source": [
    "import pandas as pd\n",
    "import kagglehub as kh\n",
    "import os\n",
    "\n",
    "path = kh.dataset_download(\"subhankarpanda56/news-bias\")\n",
    "\n",
    "print(\"Path to dataset: \", path)"
   ]
  },
  {
   "cell_type": "code",
   "execution_count": null,
   "metadata": {},
   "outputs": [],
   "source": [
    "# Find the CSV file within the downloaded directory:\n",
    "for filename in os.listdir(path):\n",
    "  if filename.endswith(\".csv\"):\n",
    "    csv_file_path = os.path.join(path, filename)\n",
    "    break # Stop after finding the first CSV file\n",
    "\n",
    "\n",
    "df = pd.read_csv(csv_file_path)\n",
    "df.head()"
   ]
  }
 ],
 "metadata": {
  "kernelspec": {
   "display_name": "base",
   "language": "python",
   "name": "python3"
  },
  "language_info": {
   "codemirror_mode": {
    "name": "ipython",
    "version": 3
   },
   "file_extension": ".py",
   "mimetype": "text/x-python",
   "name": "python",
   "nbconvert_exporter": "python",
   "pygments_lexer": "ipython3",
   "version": "3.11.5"
  }
 },
 "nbformat": 4,
 "nbformat_minor": 2
}
